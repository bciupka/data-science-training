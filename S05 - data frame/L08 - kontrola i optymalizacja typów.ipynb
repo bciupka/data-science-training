{
 "cells": [
  {
   "cell_type": "markdown",
   "id": "8582ba65",
   "metadata": {},
   "source": [
    "df.dtypes - series z typami dla danych kolumn\n",
    "\n",
    "df.info(memory_usage=\"deep\" - dokładne dane o  zajętej pamięci) - wszystkie dane\n",
    "\n",
    "**Kolumna z NaN nie może być intem**\n",
    "\n",
    "ds.astype(\"typ np. int\")\n",
    "\n",
    "*Niestety trzeba przepisać do konkretnej kolumny*\n",
    "\n",
    "**typ category - dla powtarzających się stringow - dla kategorii :D**"
   ]
  },
  {
   "cell_type": "code",
   "execution_count": 1,
   "id": "c2cd2cad",
   "metadata": {},
   "outputs": [],
   "source": [
    "import pandas as pd\n",
    "import numpy as np\n",
    "import matplotlib.pyplot as plt\n",
    "import math\n",
    "\n",
    "%matplotlib inline"
   ]
  },
  {
   "cell_type": "code",
   "execution_count": 2,
   "id": "98ae2be9",
   "metadata": {},
   "outputs": [],
   "source": [
    "fuel = pd.read_csv(r\"..\\course-files\\fuel.csv\", usecols=['Vehicle ID','Year','Make','Model','Class','Fuel Type','Combined MPG (FT1)'],\n",
    "                  low_memory=False)"
   ]
  },
  {
   "cell_type": "code",
   "execution_count": 4,
   "id": "c355a305",
   "metadata": {},
   "outputs": [
    {
     "name": "stdout",
     "output_type": "stream",
     "text": [
      "<class 'pandas.core.frame.DataFrame'>\n",
      "RangeIndex: 31684 entries, 0 to 31683\n",
      "Data columns (total 7 columns):\n",
      " #   Column              Non-Null Count  Dtype  \n",
      "---  ------              --------------  -----  \n",
      " 0   Vehicle ID          31684 non-null  int64  \n",
      " 1   Year                31684 non-null  int64  \n",
      " 2   Make                31684 non-null  object \n",
      " 3   Model               31683 non-null  object \n",
      " 4   Class               31683 non-null  object \n",
      " 5   Fuel Type           31683 non-null  object \n",
      " 6   Combined MPG (FT1)  31683 non-null  float64\n",
      "dtypes: float64(1), int64(2), object(4)\n",
      "memory usage: 8.9 MB\n"
     ]
    }
   ],
   "source": [
    "fuel.info(memory_usage=\"deep\")"
   ]
  },
  {
   "cell_type": "code",
   "execution_count": 12,
   "id": "5a2474b0",
   "metadata": {},
   "outputs": [],
   "source": [
    "fuel.Year = fuel.Year.astype(\"int16\")"
   ]
  },
  {
   "cell_type": "code",
   "execution_count": 13,
   "id": "7b354da3",
   "metadata": {
    "collapsed": true
   },
   "outputs": [
    {
     "name": "stdout",
     "output_type": "stream",
     "text": [
      "<class 'pandas.core.frame.DataFrame'>\n",
      "RangeIndex: 31684 entries, 0 to 31683\n",
      "Data columns (total 7 columns):\n",
      " #   Column              Non-Null Count  Dtype  \n",
      "---  ------              --------------  -----  \n",
      " 0   Vehicle ID          31684 non-null  int64  \n",
      " 1   Year                31684 non-null  int16  \n",
      " 2   Make                31684 non-null  object \n",
      " 3   Model               31683 non-null  object \n",
      " 4   Class               31683 non-null  object \n",
      " 5   Fuel Type           31683 non-null  object \n",
      " 6   Combined MPG (FT1)  31683 non-null  float64\n",
      "dtypes: float64(1), int16(1), int64(1), object(4)\n",
      "memory usage: 8.7 MB\n"
     ]
    }
   ],
   "source": [
    "cfuel.info(memory_usage=\"deep\")"
   ]
  },
  {
   "cell_type": "code",
   "execution_count": 16,
   "id": "7a897f5e",
   "metadata": {
    "collapsed": true
   },
   "outputs": [
    {
     "data": {
      "text/plain": [
       "Make\n",
       "Chevrolet                 3389\n",
       "Ford                      2721\n",
       "Dodge                     2361\n",
       "GMC                       2174\n",
       "Toyota                    1599\n",
       "                          ... \n",
       "General Motors               1\n",
       "Panoz Auto-Development       1\n",
       "Goldacre                     1\n",
       "Panos                        1\n",
       "Mitsubish                    1\n",
       "Name: count, Length: 128, dtype: int64"
      ]
     },
     "execution_count": 16,
     "metadata": {},
     "output_type": "execute_result"
    }
   ],
   "source": [
    "fuel.Make.value_counts()"
   ]
  },
  {
   "cell_type": "code",
   "execution_count": 17,
   "id": "a790a80c",
   "metadata": {
    "collapsed": true
   },
   "outputs": [],
   "source": [
    "fuel.Make = fuel.Make.astype(\"category\")"
   ]
  },
  {
   "cell_type": "code",
   "execution_count": 18,
   "id": "5a0cd619",
   "metadata": {
    "collapsed": true
   },
   "outputs": [
    {
     "name": "stdout",
     "output_type": "stream",
     "text": [
      "<class 'pandas.core.frame.DataFrame'>\n",
      "RangeIndex: 31684 entries, 0 to 31683\n",
      "Data columns (total 7 columns):\n",
      " #   Column              Non-Null Count  Dtype   \n",
      "---  ------              --------------  -----   \n",
      " 0   Vehicle ID          31684 non-null  int64   \n",
      " 1   Year                31684 non-null  int16   \n",
      " 2   Make                31684 non-null  category\n",
      " 3   Model               31683 non-null  object  \n",
      " 4   Class               31683 non-null  object  \n",
      " 5   Fuel Type           31683 non-null  object  \n",
      " 6   Combined MPG (FT1)  31683 non-null  float64 \n",
      "dtypes: category(1), float64(1), int16(1), int64(1), object(3)\n",
      "memory usage: 6.9 MB\n"
     ]
    }
   ],
   "source": [
    "fuel.info(memory_usage=\"deep\")"
   ]
  },
  {
   "cell_type": "code",
   "execution_count": 19,
   "id": "c232c855",
   "metadata": {
    "collapsed": true
   },
   "outputs": [
    {
     "data": {
      "text/plain": [
       "Model\n",
       "F150 Pickup 2WD                 194\n",
       "Truck 2WD                       187\n",
       "F150 Pickup 4WD                 172\n",
       "Ranger Pickup 2WD               169\n",
       "Mustang                         156\n",
       "                               ... \n",
       "Silver Spur II Mpw Touring L      1\n",
       "Brooklands/Brklnds L              1\n",
       "Vdp                               1\n",
       "Pas-Typhoon                       1\n",
       "Lancer AWD                        1\n",
       "Name: count, Length: 2957, dtype: int64"
      ]
     },
     "execution_count": 19,
     "metadata": {},
     "output_type": "execute_result"
    }
   ],
   "source": [
    "fuel.Model.value_counts()"
   ]
  },
  {
   "cell_type": "code",
   "execution_count": 20,
   "id": "a91f9cba",
   "metadata": {
    "collapsed": true
   },
   "outputs": [
    {
     "data": {
      "text/plain": [
       "Class\n",
       "Compact Cars                    4489\n",
       "Subcompact Cars                 4299\n",
       "Midsize Cars                    3393\n",
       "Standard Pickup Trucks          2354\n",
       "Sport Utility Vehicle - 4WD     2034\n",
       "Sport Utility Vehicle - 2WD     1598\n",
       "Special Purpose Vehicles        1455\n",
       "Two Seaters                     1448\n",
       "Large Cars                      1351\n",
       "Small Station Wagons            1275\n",
       "Vans                            1141\n",
       "Standard Pickup Trucks 2WD      1043\n",
       "Minicompact Cars                 941\n",
       "Standard Pickup Trucks 4WD       846\n",
       "Midsize-Large Station Wagons     656\n",
       "Small Pickup Trucks              538\n",
       "Special Purpose Vehicle 2WD      536\n",
       "Midsize Station Wagons           492\n",
       "Vans, Cargo Type                 397\n",
       "Small Pickup Trucks 2WD          365\n",
       "Special Purpose Vehicle 4WD      287\n",
       "Minivan - 2WD                    278\n",
       "Vans, Passenger Type             253\n",
       "Small Pickup Trucks 4WD          162\n",
       "Minivan - 4WD                     41\n",
       "Standard Pickup Trucks/2wd         4\n",
       "Vans Passenger                     2\n",
       "Special Purpose Vehicles/4wd       2\n",
       "Special Purpose Vehicles/2wd       2\n",
       "Special Purpose Vehicle            1\n",
       "Name: count, dtype: int64"
      ]
     },
     "execution_count": 20,
     "metadata": {},
     "output_type": "execute_result"
    }
   ],
   "source": [
    "fuel.Class.value_counts()"
   ]
  },
  {
   "cell_type": "code",
   "execution_count": 22,
   "id": "8bc3c0eb",
   "metadata": {
    "collapsed": true
   },
   "outputs": [
    {
     "data": {
      "text/plain": [
       "Fuel Type\n",
       "Regular                       22439\n",
       "Premium                        7375\n",
       "Diesel                          936\n",
       "Gasoline or E85                 767\n",
       "CNG                              55\n",
       "Electricity                      33\n",
       "Premium or E85                   33\n",
       "Gasoline or natural gas          18\n",
       "Midgrade                         16\n",
       "Gasoline or propane               8\n",
       "Premium Gas or Electricity        3\n",
       "Name: count, dtype: int64"
      ]
     },
     "execution_count": 22,
     "metadata": {},
     "output_type": "execute_result"
    }
   ],
   "source": [
    "fuel[\"Fuel Type\"].value_counts()"
   ]
  },
  {
   "cell_type": "code",
   "execution_count": 23,
   "id": "4d637635",
   "metadata": {},
   "outputs": [],
   "source": [
    "fuel.Model = fuel.Model.astype(\"category\")"
   ]
  },
  {
   "cell_type": "code",
   "execution_count": 24,
   "id": "72b6089c",
   "metadata": {},
   "outputs": [],
   "source": [
    "fuel.Class = fuel.Class.astype(\"category\")"
   ]
  },
  {
   "cell_type": "code",
   "execution_count": 25,
   "id": "bec2a569",
   "metadata": {},
   "outputs": [],
   "source": [
    "fuel[\"Fuel Type\"] = fuel[\"Fuel Type\"].astype(\"category\")"
   ]
  },
  {
   "cell_type": "code",
   "execution_count": 26,
   "id": "0ef0ab12",
   "metadata": {},
   "outputs": [
    {
     "name": "stdout",
     "output_type": "stream",
     "text": [
      "<class 'pandas.core.frame.DataFrame'>\n",
      "RangeIndex: 31684 entries, 0 to 31683\n",
      "Data columns (total 7 columns):\n",
      " #   Column              Non-Null Count  Dtype   \n",
      "---  ------              --------------  -----   \n",
      " 0   Vehicle ID          31684 non-null  int64   \n",
      " 1   Year                31684 non-null  int16   \n",
      " 2   Make                31684 non-null  category\n",
      " 3   Model               31683 non-null  category\n",
      " 4   Class               31683 non-null  category\n",
      " 5   Fuel Type           31683 non-null  category\n",
      " 6   Combined MPG (FT1)  31683 non-null  float64 \n",
      "dtypes: category(4), float64(1), int16(1), int64(1)\n",
      "memory usage: 1.0 MB\n"
     ]
    }
   ],
   "source": [
    "fuel.info(memory_usage=\"deep\")"
   ]
  },
  {
   "cell_type": "code",
   "execution_count": null,
   "id": "4d74465c",
   "metadata": {},
   "outputs": [],
   "source": []
  }
 ],
 "metadata": {
  "kernelspec": {
   "display_name": "Python 3 (ipykernel)",
   "language": "python",
   "name": "python3"
  },
  "language_info": {
   "codemirror_mode": {
    "name": "ipython",
    "version": 3
   },
   "file_extension": ".py",
   "mimetype": "text/x-python",
   "name": "python",
   "nbconvert_exporter": "python",
   "pygments_lexer": "ipython3",
   "version": "3.11.3"
  }
 },
 "nbformat": 4,
 "nbformat_minor": 5
}
