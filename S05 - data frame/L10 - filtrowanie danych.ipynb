{
 "cells": [
  {
   "cell_type": "markdown",
   "id": "3e5aaec4",
   "metadata": {},
   "source": [
    "adekwatnie do dataseries - tworzymy filtry jako zmienne i łączymy\n",
    "\n",
    "**w series jednak uzywalem metody where**\n",
    "\n",
    "df[filtr1 & (filtr2 | ~filtr3)]\n",
    "\n",
    "AND jest interpretowane najpierw, potem OR"
   ]
  },
  {
   "cell_type": "code",
   "execution_count": 1,
   "id": "a5873600",
   "metadata": {},
   "outputs": [],
   "source": [
    "import pandas as pd\n",
    "import numpy as np\n",
    "import matplotlib.pyplot as plt\n",
    "import math\n",
    "\n",
    "%matplotlib inline"
   ]
  },
  {
   "cell_type": "code",
   "execution_count": 2,
   "id": "5cbbab3d",
   "metadata": {
    "collapsed": true
   },
   "outputs": [
    {
     "data": {
      "text/html": [
       "<div>\n",
       "<style scoped>\n",
       "    .dataframe tbody tr th:only-of-type {\n",
       "        vertical-align: middle;\n",
       "    }\n",
       "\n",
       "    .dataframe tbody tr th {\n",
       "        vertical-align: top;\n",
       "    }\n",
       "\n",
       "    .dataframe thead th {\n",
       "        text-align: right;\n",
       "    }\n",
       "</style>\n",
       "<table border=\"1\" class=\"dataframe\">\n",
       "  <thead>\n",
       "    <tr style=\"text-align: right;\">\n",
       "      <th></th>\n",
       "      <th>Title</th>\n",
       "      <th>Employees</th>\n",
       "      <th>Profits</th>\n",
       "      <th>Assets</th>\n",
       "    </tr>\n",
       "    <tr>\n",
       "      <th>Rank</th>\n",
       "      <th></th>\n",
       "      <th></th>\n",
       "      <th></th>\n",
       "      <th></th>\n",
       "    </tr>\n",
       "  </thead>\n",
       "  <tbody>\n",
       "    <tr>\n",
       "      <th>1</th>\n",
       "      <td>Walmart</td>\n",
       "      <td>2300000</td>\n",
       "      <td>13643.0</td>\n",
       "      <td>198825</td>\n",
       "    </tr>\n",
       "    <tr>\n",
       "      <th>2</th>\n",
       "      <td>Berkshire Hathaway</td>\n",
       "      <td>367700</td>\n",
       "      <td>24074.0</td>\n",
       "      <td>620854</td>\n",
       "    </tr>\n",
       "    <tr>\n",
       "      <th>3</th>\n",
       "      <td>Apple</td>\n",
       "      <td>116000</td>\n",
       "      <td>45687.0</td>\n",
       "      <td>321686</td>\n",
       "    </tr>\n",
       "    <tr>\n",
       "      <th>4</th>\n",
       "      <td>Exxon Mobil</td>\n",
       "      <td>72700</td>\n",
       "      <td>7840.0</td>\n",
       "      <td>330314</td>\n",
       "    </tr>\n",
       "    <tr>\n",
       "      <th>5</th>\n",
       "      <td>McKesson</td>\n",
       "      <td>68000</td>\n",
       "      <td>2258.0</td>\n",
       "      <td>56563</td>\n",
       "    </tr>\n",
       "  </tbody>\n",
       "</table>\n",
       "</div>"
      ],
      "text/plain": [
       "                   Title  Employees  Profits  Assets\n",
       "Rank                                                \n",
       "1                Walmart    2300000  13643.0  198825\n",
       "2     Berkshire Hathaway     367700  24074.0  620854\n",
       "3                  Apple     116000  45687.0  321686\n",
       "4            Exxon Mobil      72700   7840.0  330314\n",
       "5               McKesson      68000   2258.0   56563"
      ]
     },
     "execution_count": 2,
     "metadata": {},
     "output_type": "execute_result"
    }
   ],
   "source": [
    "fortune = pd.read_csv(r\"..\\course-files\\Fortune_500_2017.csv\", usecols=['Rank','Title','Employees','Profits','Assets'],\n",
    "                     index_col=\"Rank\")\n",
    "fortune.head()"
   ]
  },
  {
   "cell_type": "code",
   "execution_count": 3,
   "id": "eedb7de2",
   "metadata": {
    "collapsed": true
   },
   "outputs": [
    {
     "data": {
      "text/plain": [
       "Rank\n",
       "1      1.0\n",
       "2      7.0\n",
       "3     57.0\n",
       "4     94.0\n",
       "5    104.5\n",
       "Name: Employees, dtype: float64"
      ]
     },
     "execution_count": 3,
     "metadata": {},
     "output_type": "execute_result"
    }
   ],
   "source": [
    "fortune.Employees.rank(ascending=False).head()"
   ]
  },
  {
   "cell_type": "code",
   "execution_count": 4,
   "id": "0ad43ee5",
   "metadata": {
    "collapsed": true
   },
   "outputs": [
    {
     "data": {
      "text/html": [
       "<div>\n",
       "<style scoped>\n",
       "    .dataframe tbody tr th:only-of-type {\n",
       "        vertical-align: middle;\n",
       "    }\n",
       "\n",
       "    .dataframe tbody tr th {\n",
       "        vertical-align: top;\n",
       "    }\n",
       "\n",
       "    .dataframe thead th {\n",
       "        text-align: right;\n",
       "    }\n",
       "</style>\n",
       "<table border=\"1\" class=\"dataframe\">\n",
       "  <thead>\n",
       "    <tr style=\"text-align: right;\">\n",
       "      <th></th>\n",
       "      <th>Title</th>\n",
       "      <th>Employees</th>\n",
       "      <th>Profits</th>\n",
       "      <th>Assets</th>\n",
       "      <th>RankByEmployee</th>\n",
       "    </tr>\n",
       "    <tr>\n",
       "      <th>Rank</th>\n",
       "      <th></th>\n",
       "      <th></th>\n",
       "      <th></th>\n",
       "      <th></th>\n",
       "      <th></th>\n",
       "    </tr>\n",
       "  </thead>\n",
       "  <tbody>\n",
       "    <tr>\n",
       "      <th>1</th>\n",
       "      <td>Walmart</td>\n",
       "      <td>2300000</td>\n",
       "      <td>13643.0</td>\n",
       "      <td>198825</td>\n",
       "      <td>1.0</td>\n",
       "    </tr>\n",
       "    <tr>\n",
       "      <th>2</th>\n",
       "      <td>Berkshire Hathaway</td>\n",
       "      <td>367700</td>\n",
       "      <td>24074.0</td>\n",
       "      <td>620854</td>\n",
       "      <td>7.0</td>\n",
       "    </tr>\n",
       "    <tr>\n",
       "      <th>3</th>\n",
       "      <td>Apple</td>\n",
       "      <td>116000</td>\n",
       "      <td>45687.0</td>\n",
       "      <td>321686</td>\n",
       "      <td>57.0</td>\n",
       "    </tr>\n",
       "    <tr>\n",
       "      <th>4</th>\n",
       "      <td>Exxon Mobil</td>\n",
       "      <td>72700</td>\n",
       "      <td>7840.0</td>\n",
       "      <td>330314</td>\n",
       "      <td>94.0</td>\n",
       "    </tr>\n",
       "    <tr>\n",
       "      <th>5</th>\n",
       "      <td>McKesson</td>\n",
       "      <td>68000</td>\n",
       "      <td>2258.0</td>\n",
       "      <td>56563</td>\n",
       "      <td>104.5</td>\n",
       "    </tr>\n",
       "  </tbody>\n",
       "</table>\n",
       "</div>"
      ],
      "text/plain": [
       "                   Title  Employees  Profits  Assets  RankByEmployee\n",
       "Rank                                                                \n",
       "1                Walmart    2300000  13643.0  198825             1.0\n",
       "2     Berkshire Hathaway     367700  24074.0  620854             7.0\n",
       "3                  Apple     116000  45687.0  321686            57.0\n",
       "4            Exxon Mobil      72700   7840.0  330314            94.0\n",
       "5               McKesson      68000   2258.0   56563           104.5"
      ]
     },
     "execution_count": 4,
     "metadata": {},
     "output_type": "execute_result"
    }
   ],
   "source": [
    "fortune[\"RankByEmployee\"] = fortune.Employees.rank(ascending=False)\n",
    "fortune.head()"
   ]
  },
  {
   "cell_type": "code",
   "execution_count": 5,
   "id": "1ca1a911",
   "metadata": {
    "collapsed": true
   },
   "outputs": [
    {
     "data": {
      "text/plain": [
       "Rank\n",
       "1     11.0\n",
       "2      3.0\n",
       "3      1.0\n",
       "4     27.0\n",
       "5    102.0\n",
       "Name: Profits, dtype: float64"
      ]
     },
     "execution_count": 5,
     "metadata": {},
     "output_type": "execute_result"
    }
   ],
   "source": [
    "fortune.Profits.rank(ascending=False).head()"
   ]
  },
  {
   "cell_type": "code",
   "execution_count": 6,
   "id": "f266c7c4",
   "metadata": {},
   "outputs": [
    {
     "data": {
      "text/html": [
       "<div>\n",
       "<style scoped>\n",
       "    .dataframe tbody tr th:only-of-type {\n",
       "        vertical-align: middle;\n",
       "    }\n",
       "\n",
       "    .dataframe tbody tr th {\n",
       "        vertical-align: top;\n",
       "    }\n",
       "\n",
       "    .dataframe thead th {\n",
       "        text-align: right;\n",
       "    }\n",
       "</style>\n",
       "<table border=\"1\" class=\"dataframe\">\n",
       "  <thead>\n",
       "    <tr style=\"text-align: right;\">\n",
       "      <th></th>\n",
       "      <th>Title</th>\n",
       "      <th>Employees</th>\n",
       "      <th>Profits</th>\n",
       "      <th>Assets</th>\n",
       "      <th>RankByEmployee</th>\n",
       "      <th>RankByProfits</th>\n",
       "    </tr>\n",
       "    <tr>\n",
       "      <th>Rank</th>\n",
       "      <th></th>\n",
       "      <th></th>\n",
       "      <th></th>\n",
       "      <th></th>\n",
       "      <th></th>\n",
       "      <th></th>\n",
       "    </tr>\n",
       "  </thead>\n",
       "  <tbody>\n",
       "    <tr>\n",
       "      <th>1</th>\n",
       "      <td>Walmart</td>\n",
       "      <td>2300000</td>\n",
       "      <td>13643.0</td>\n",
       "      <td>198825</td>\n",
       "      <td>1.0</td>\n",
       "      <td>11.0</td>\n",
       "    </tr>\n",
       "    <tr>\n",
       "      <th>2</th>\n",
       "      <td>Berkshire Hathaway</td>\n",
       "      <td>367700</td>\n",
       "      <td>24074.0</td>\n",
       "      <td>620854</td>\n",
       "      <td>7.0</td>\n",
       "      <td>3.0</td>\n",
       "    </tr>\n",
       "    <tr>\n",
       "      <th>3</th>\n",
       "      <td>Apple</td>\n",
       "      <td>116000</td>\n",
       "      <td>45687.0</td>\n",
       "      <td>321686</td>\n",
       "      <td>57.0</td>\n",
       "      <td>1.0</td>\n",
       "    </tr>\n",
       "    <tr>\n",
       "      <th>4</th>\n",
       "      <td>Exxon Mobil</td>\n",
       "      <td>72700</td>\n",
       "      <td>7840.0</td>\n",
       "      <td>330314</td>\n",
       "      <td>94.0</td>\n",
       "      <td>27.0</td>\n",
       "    </tr>\n",
       "    <tr>\n",
       "      <th>5</th>\n",
       "      <td>McKesson</td>\n",
       "      <td>68000</td>\n",
       "      <td>2258.0</td>\n",
       "      <td>56563</td>\n",
       "      <td>104.5</td>\n",
       "      <td>102.0</td>\n",
       "    </tr>\n",
       "  </tbody>\n",
       "</table>\n",
       "</div>"
      ],
      "text/plain": [
       "                   Title  Employees  Profits  Assets  RankByEmployee   \n",
       "Rank                                                                   \n",
       "1                Walmart    2300000  13643.0  198825             1.0  \\\n",
       "2     Berkshire Hathaway     367700  24074.0  620854             7.0   \n",
       "3                  Apple     116000  45687.0  321686            57.0   \n",
       "4            Exxon Mobil      72700   7840.0  330314            94.0   \n",
       "5               McKesson      68000   2258.0   56563           104.5   \n",
       "\n",
       "      RankByProfits  \n",
       "Rank                 \n",
       "1              11.0  \n",
       "2               3.0  \n",
       "3               1.0  \n",
       "4              27.0  \n",
       "5             102.0  "
      ]
     },
     "execution_count": 6,
     "metadata": {},
     "output_type": "execute_result"
    }
   ],
   "source": [
    "fortune[\"RankByProfits\"] = fortune.Profits.rank(ascending=False)\n",
    "fortune.head()"
   ]
  },
  {
   "cell_type": "code",
   "execution_count": 7,
   "id": "4940068a",
   "metadata": {},
   "outputs": [],
   "source": [
    "isEmployeesRankFirst10 = fortune.RankByEmployee <= 10\n",
    "isProfitRankFirst10 = fortune.RankByProfits <= 10"
   ]
  },
  {
   "cell_type": "code",
   "execution_count": 8,
   "id": "fcb521cb",
   "metadata": {},
   "outputs": [
    {
     "data": {
      "text/html": [
       "<div>\n",
       "<style scoped>\n",
       "    .dataframe tbody tr th:only-of-type {\n",
       "        vertical-align: middle;\n",
       "    }\n",
       "\n",
       "    .dataframe tbody tr th {\n",
       "        vertical-align: top;\n",
       "    }\n",
       "\n",
       "    .dataframe thead th {\n",
       "        text-align: right;\n",
       "    }\n",
       "</style>\n",
       "<table border=\"1\" class=\"dataframe\">\n",
       "  <thead>\n",
       "    <tr style=\"text-align: right;\">\n",
       "      <th></th>\n",
       "      <th>Title</th>\n",
       "      <th>Employees</th>\n",
       "      <th>Profits</th>\n",
       "      <th>Assets</th>\n",
       "      <th>RankByEmployee</th>\n",
       "      <th>RankByProfits</th>\n",
       "    </tr>\n",
       "    <tr>\n",
       "      <th>Rank</th>\n",
       "      <th></th>\n",
       "      <th></th>\n",
       "      <th></th>\n",
       "      <th></th>\n",
       "      <th></th>\n",
       "      <th></th>\n",
       "    </tr>\n",
       "  </thead>\n",
       "  <tbody>\n",
       "    <tr>\n",
       "      <th>2</th>\n",
       "      <td>Berkshire Hathaway</td>\n",
       "      <td>367700</td>\n",
       "      <td>24074.0</td>\n",
       "      <td>620854</td>\n",
       "      <td>7.0</td>\n",
       "      <td>3.0</td>\n",
       "    </tr>\n",
       "  </tbody>\n",
       "</table>\n",
       "</div>"
      ],
      "text/plain": [
       "                   Title  Employees  Profits  Assets  RankByEmployee   \n",
       "Rank                                                                   \n",
       "2     Berkshire Hathaway     367700  24074.0  620854             7.0  \\\n",
       "\n",
       "      RankByProfits  \n",
       "Rank                 \n",
       "2               3.0  "
      ]
     },
     "execution_count": 8,
     "metadata": {},
     "output_type": "execute_result"
    }
   ],
   "source": [
    "fortune[isEmployeesRankFirst10 & isProfitRankFirst10]"
   ]
  },
  {
   "cell_type": "code",
   "execution_count": 9,
   "id": "a34237fd",
   "metadata": {},
   "outputs": [],
   "source": [
    "isEmployeesRankMore400 = fortune.RankByEmployee >= 400"
   ]
  },
  {
   "cell_type": "code",
   "execution_count": 10,
   "id": "61cf4b98",
   "metadata": {},
   "outputs": [
    {
     "data": {
      "text/html": [
       "<div>\n",
       "<style scoped>\n",
       "    .dataframe tbody tr th:only-of-type {\n",
       "        vertical-align: middle;\n",
       "    }\n",
       "\n",
       "    .dataframe tbody tr th {\n",
       "        vertical-align: top;\n",
       "    }\n",
       "\n",
       "    .dataframe thead th {\n",
       "        text-align: right;\n",
       "    }\n",
       "</style>\n",
       "<table border=\"1\" class=\"dataframe\">\n",
       "  <thead>\n",
       "    <tr style=\"text-align: right;\">\n",
       "      <th></th>\n",
       "      <th>Title</th>\n",
       "      <th>Employees</th>\n",
       "      <th>Profits</th>\n",
       "      <th>Assets</th>\n",
       "      <th>RankByEmployee</th>\n",
       "      <th>RankByProfits</th>\n",
       "    </tr>\n",
       "    <tr>\n",
       "      <th>Rank</th>\n",
       "      <th></th>\n",
       "      <th></th>\n",
       "      <th></th>\n",
       "      <th></th>\n",
       "      <th></th>\n",
       "      <th></th>\n",
       "    </tr>\n",
       "  </thead>\n",
       "  <tbody>\n",
       "    <tr>\n",
       "      <th>148</th>\n",
       "      <td>Altria Group</td>\n",
       "      <td>8300</td>\n",
       "      <td>14239.0</td>\n",
       "      <td>45932</td>\n",
       "      <td>424.0</td>\n",
       "      <td>10.0</td>\n",
       "    </tr>\n",
       "  </tbody>\n",
       "</table>\n",
       "</div>"
      ],
      "text/plain": [
       "             Title  Employees  Profits  Assets  RankByEmployee  RankByProfits\n",
       "Rank                                                                         \n",
       "148   Altria Group       8300  14239.0   45932           424.0           10.0"
      ]
     },
     "execution_count": 10,
     "metadata": {},
     "output_type": "execute_result"
    }
   ],
   "source": [
    "fortune[isProfitRankFirst10 & isEmployeesRankMore400]"
   ]
  },
  {
   "cell_type": "code",
   "execution_count": null,
   "id": "aa9dd948",
   "metadata": {},
   "outputs": [],
   "source": []
  }
 ],
 "metadata": {
  "kernelspec": {
   "display_name": "Python 3 (ipykernel)",
   "language": "python",
   "name": "python3"
  },
  "language_info": {
   "codemirror_mode": {
    "name": "ipython",
    "version": 3
   },
   "file_extension": ".py",
   "mimetype": "text/x-python",
   "name": "python",
   "nbconvert_exporter": "python",
   "pygments_lexer": "ipython3",
   "version": "3.11.3"
  }
 },
 "nbformat": 4,
 "nbformat_minor": 5
}
