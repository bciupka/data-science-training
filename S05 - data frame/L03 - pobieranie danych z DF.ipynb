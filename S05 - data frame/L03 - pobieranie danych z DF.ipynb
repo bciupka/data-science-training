{
 "cells": [
  {
   "cell_type": "markdown",
   "id": "4dc5dc25",
   "metadata": {},
   "source": [
    "**df posiada atrybuty odpowiadające kolumnom (ds)**\n",
    "\n",
    "df.loc[index, kolumna] - OK - JEST TROCHE NIEINTUICYJNE, NA ODWRÓT DO ZWYKŁEGO INDEXOWANIA\n",
    "\n",
    "df[[kolumny]] - notacja jak w locach\n",
    "\n",
    "jak listy -df[komuna][index]"
   ]
  },
  {
   "cell_type": "code",
   "execution_count": 2,
   "id": "3e72cb6d",
   "metadata": {},
   "outputs": [],
   "source": [
    "import pandas as pd\n",
    "import numpy as np\n",
    "import matplotlib.pyplot as plt\n",
    "import math\n",
    "\n",
    "%matplotlib inline"
   ]
  },
  {
   "cell_type": "code",
   "execution_count": 5,
   "id": "d27a40e0",
   "metadata": {},
   "outputs": [
    {
     "data": {
      "text/html": [
       "<div>\n",
       "<style scoped>\n",
       "    .dataframe tbody tr th:only-of-type {\n",
       "        vertical-align: middle;\n",
       "    }\n",
       "\n",
       "    .dataframe tbody tr th {\n",
       "        vertical-align: top;\n",
       "    }\n",
       "\n",
       "    .dataframe thead th {\n",
       "        text-align: right;\n",
       "    }\n",
       "</style>\n",
       "<table border=\"1\" class=\"dataframe\">\n",
       "  <thead>\n",
       "    <tr style=\"text-align: right;\">\n",
       "      <th></th>\n",
       "      <th>Year</th>\n",
       "      <th>Make</th>\n",
       "      <th>Model</th>\n",
       "      <th>Class</th>\n",
       "      <th>Fuel Type</th>\n",
       "      <th>Combined MPG (FT1)</th>\n",
       "    </tr>\n",
       "    <tr>\n",
       "      <th>Vehicle ID</th>\n",
       "      <th></th>\n",
       "      <th></th>\n",
       "      <th></th>\n",
       "      <th></th>\n",
       "      <th></th>\n",
       "      <th></th>\n",
       "    </tr>\n",
       "  </thead>\n",
       "  <tbody>\n",
       "    <tr>\n",
       "      <th>26587</th>\n",
       "      <td>1984</td>\n",
       "      <td>Alfa Romeo</td>\n",
       "      <td>GT V6 2.5</td>\n",
       "      <td>Minicompact Cars</td>\n",
       "      <td>Regular</td>\n",
       "      <td>20.0</td>\n",
       "    </tr>\n",
       "    <tr>\n",
       "      <th>27705</th>\n",
       "      <td>1984</td>\n",
       "      <td>Alfa Romeo</td>\n",
       "      <td>GT V6 2.5</td>\n",
       "      <td>Minicompact Cars</td>\n",
       "      <td>Regular</td>\n",
       "      <td>20.0</td>\n",
       "    </tr>\n",
       "    <tr>\n",
       "      <th>26561</th>\n",
       "      <td>1984</td>\n",
       "      <td>Alfa Romeo</td>\n",
       "      <td>Spider Veloce 2000</td>\n",
       "      <td>Two Seaters</td>\n",
       "      <td>Regular</td>\n",
       "      <td>21.0</td>\n",
       "    </tr>\n",
       "    <tr>\n",
       "      <th>27681</th>\n",
       "      <td>1984</td>\n",
       "      <td>Alfa Romeo</td>\n",
       "      <td>Spider Veloce 2000</td>\n",
       "      <td>Two Seaters</td>\n",
       "      <td>Regular</td>\n",
       "      <td>21.0</td>\n",
       "    </tr>\n",
       "    <tr>\n",
       "      <th>27550</th>\n",
       "      <td>1984</td>\n",
       "      <td>AM General</td>\n",
       "      <td>DJ Po Vehicle 2WD</td>\n",
       "      <td>Special Purpose Vehicle 2WD</td>\n",
       "      <td>Regular</td>\n",
       "      <td>17.0</td>\n",
       "    </tr>\n",
       "  </tbody>\n",
       "</table>\n",
       "</div>"
      ],
      "text/plain": [
       "            Year        Make               Model                        Class   \n",
       "Vehicle ID                                                                      \n",
       "26587       1984  Alfa Romeo           GT V6 2.5             Minicompact Cars  \\\n",
       "27705       1984  Alfa Romeo           GT V6 2.5             Minicompact Cars   \n",
       "26561       1984  Alfa Romeo  Spider Veloce 2000                  Two Seaters   \n",
       "27681       1984  Alfa Romeo  Spider Veloce 2000                  Two Seaters   \n",
       "27550       1984  AM General   DJ Po Vehicle 2WD  Special Purpose Vehicle 2WD   \n",
       "\n",
       "           Fuel Type  Combined MPG (FT1)  \n",
       "Vehicle ID                                \n",
       "26587        Regular                20.0  \n",
       "27705        Regular                20.0  \n",
       "26561        Regular                21.0  \n",
       "27681        Regular                21.0  \n",
       "27550        Regular                17.0  "
      ]
     },
     "execution_count": 5,
     "metadata": {},
     "output_type": "execute_result"
    }
   ],
   "source": [
    "fuel = pd.read_csv(r\"..\\course-files\\fuel.csv\", low_memory=False, index_col=\"Vehicle ID\",\n",
    "                   usecols=['Vehicle ID','Year','Make','Model','Class','Fuel Type','Combined MPG (FT1)'])\n",
    "fuel.head()\n",
    "                            "
   ]
  },
  {
   "cell_type": "code",
   "execution_count": 6,
   "id": "95399b16",
   "metadata": {},
   "outputs": [
    {
     "data": {
      "text/plain": [
       "Vehicle ID\n",
       "26587    Alfa Romeo\n",
       "27705    Alfa Romeo\n",
       "26561    Alfa Romeo\n",
       "27681    Alfa Romeo\n",
       "27550    AM General\n",
       "Name: Make, dtype: object"
      ]
     },
     "execution_count": 6,
     "metadata": {},
     "output_type": "execute_result"
    }
   ],
   "source": [
    "fuel[\"Make\"].head()"
   ]
  },
  {
   "cell_type": "code",
   "execution_count": 13,
   "id": "6f84597a",
   "metadata": {},
   "outputs": [
    {
     "data": {
      "text/plain": [
       "Make\n",
       "Chevrolet    3389\n",
       "Ford         2721\n",
       "Dodge        2361\n",
       "GMC          2174\n",
       "Toyota       1599\n",
       "Name: count, dtype: int64"
      ]
     },
     "execution_count": 13,
     "metadata": {},
     "output_type": "execute_result"
    }
   ],
   "source": [
    "fuel[\"Make\"].value_counts().sort_values(ascending=False).head()"
   ]
  },
  {
   "cell_type": "code",
   "execution_count": 14,
   "id": "d14b019c",
   "metadata": {},
   "outputs": [
    {
     "data": {
      "text/plain": [
       "Make\n",
       "Chevrolet    3389\n",
       "Ford         2721\n",
       "Dodge        2361\n",
       "GMC          2174\n",
       "Toyota       1599\n",
       "Name: count, dtype: int64"
      ]
     },
     "execution_count": 14,
     "metadata": {},
     "output_type": "execute_result"
    }
   ],
   "source": [
    "fuel[\"Make\"].value_counts().head()"
   ]
  },
  {
   "cell_type": "code",
   "execution_count": 17,
   "id": "e0f43b69",
   "metadata": {},
   "outputs": [
    {
     "data": {
      "text/plain": [
       "Year                             1986\n",
       "Make                       Mitsubishi\n",
       "Model                         Starion\n",
       "Class                 Subcompact Cars\n",
       "Fuel Type                     Premium\n",
       "Combined MPG (FT1)               19.0\n",
       "Name: 1873, dtype: object"
      ]
     },
     "execution_count": 17,
     "metadata": {},
     "output_type": "execute_result"
    }
   ],
   "source": [
    "fuel.loc[1873]"
   ]
  },
  {
   "cell_type": "code",
   "execution_count": 18,
   "id": "89af6c1a",
   "metadata": {},
   "outputs": [
    {
     "data": {
      "text/plain": [
       "19.0"
      ]
     },
     "execution_count": 18,
     "metadata": {},
     "output_type": "execute_result"
    }
   ],
   "source": [
    "fuel.loc[1873, \"Combined MPG (FT1)\"]"
   ]
  },
  {
   "cell_type": "code",
   "execution_count": 20,
   "id": "df0ebe84",
   "metadata": {},
   "outputs": [
    {
     "data": {
      "text/plain": [
       "112.0"
      ]
     },
     "execution_count": 20,
     "metadata": {},
     "output_type": "execute_result"
    }
   ],
   "source": [
    "fuel[\"Combined MPG (FT1)\"].max()"
   ]
  },
  {
   "cell_type": "code",
   "execution_count": 21,
   "id": "41d87dcd",
   "metadata": {},
   "outputs": [
    {
     "data": {
      "text/plain": [
       "Year                             2012\n",
       "Make                       Mitsubishi\n",
       "Model                          i-MiEV\n",
       "Class                 Subcompact Cars\n",
       "Fuel Type                 Electricity\n",
       "Combined MPG (FT1)              112.0\n",
       "Name: 31673, dtype: object"
      ]
     },
     "execution_count": 21,
     "metadata": {},
     "output_type": "execute_result"
    }
   ],
   "source": [
    "fuel.loc[fuel[\"Combined MPG (FT1)\"].idxmax()]"
   ]
  },
  {
   "cell_type": "code",
   "execution_count": 22,
   "id": "d1418b68",
   "metadata": {},
   "outputs": [
    {
     "data": {
      "text/html": [
       "<div>\n",
       "<style scoped>\n",
       "    .dataframe tbody tr th:only-of-type {\n",
       "        vertical-align: middle;\n",
       "    }\n",
       "\n",
       "    .dataframe tbody tr th {\n",
       "        vertical-align: top;\n",
       "    }\n",
       "\n",
       "    .dataframe thead th {\n",
       "        text-align: right;\n",
       "    }\n",
       "</style>\n",
       "<table border=\"1\" class=\"dataframe\">\n",
       "  <thead>\n",
       "    <tr style=\"text-align: right;\">\n",
       "      <th></th>\n",
       "      <th>Make</th>\n",
       "      <th>Model</th>\n",
       "    </tr>\n",
       "    <tr>\n",
       "      <th>Vehicle ID</th>\n",
       "      <th></th>\n",
       "      <th></th>\n",
       "    </tr>\n",
       "  </thead>\n",
       "  <tbody>\n",
       "    <tr>\n",
       "      <th>26587</th>\n",
       "      <td>Alfa Romeo</td>\n",
       "      <td>GT V6 2.5</td>\n",
       "    </tr>\n",
       "    <tr>\n",
       "      <th>27705</th>\n",
       "      <td>Alfa Romeo</td>\n",
       "      <td>GT V6 2.5</td>\n",
       "    </tr>\n",
       "    <tr>\n",
       "      <th>26561</th>\n",
       "      <td>Alfa Romeo</td>\n",
       "      <td>Spider Veloce 2000</td>\n",
       "    </tr>\n",
       "    <tr>\n",
       "      <th>27681</th>\n",
       "      <td>Alfa Romeo</td>\n",
       "      <td>Spider Veloce 2000</td>\n",
       "    </tr>\n",
       "    <tr>\n",
       "      <th>27550</th>\n",
       "      <td>AM General</td>\n",
       "      <td>DJ Po Vehicle 2WD</td>\n",
       "    </tr>\n",
       "  </tbody>\n",
       "</table>\n",
       "</div>"
      ],
      "text/plain": [
       "                  Make               Model\n",
       "Vehicle ID                                \n",
       "26587       Alfa Romeo           GT V6 2.5\n",
       "27705       Alfa Romeo           GT V6 2.5\n",
       "26561       Alfa Romeo  Spider Veloce 2000\n",
       "27681       Alfa Romeo  Spider Veloce 2000\n",
       "27550       AM General   DJ Po Vehicle 2WD"
      ]
     },
     "execution_count": 22,
     "metadata": {},
     "output_type": "execute_result"
    }
   ],
   "source": [
    "shortFuel = fuel[[\"Make\", \"Model\"]]\n",
    "shortFuel.head()"
   ]
  },
  {
   "cell_type": "code",
   "execution_count": null,
   "id": "25c92470",
   "metadata": {},
   "outputs": [],
   "source": []
  }
 ],
 "metadata": {
  "kernelspec": {
   "display_name": "Python 3 (ipykernel)",
   "language": "python",
   "name": "python3"
  },
  "language_info": {
   "codemirror_mode": {
    "name": "ipython",
    "version": 3
   },
   "file_extension": ".py",
   "mimetype": "text/x-python",
   "name": "python",
   "nbconvert_exporter": "python",
   "pygments_lexer": "ipython3",
   "version": "3.11.3"
  }
 },
 "nbformat": 4,
 "nbformat_minor": 5
}
