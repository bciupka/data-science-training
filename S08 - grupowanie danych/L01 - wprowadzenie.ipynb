{
 "cells": [
  {
   "cell_type": "markdown",
   "id": "bde30450",
   "metadata": {},
   "source": [
    "df.info() - informację ogólne\n",
    "\n",
    "df.describe() - dane numeryczne - prosta analiza\n",
    "\n",
    "ds.value_counts() - analiza ilościowa wartości w kolumnie\n",
    "\n",
    "ds.nunique() - ilość wartości unikalnych\n",
    "\n",
    "tabela hashowana - słownik"
   ]
  },
  {
   "cell_type": "code",
   "execution_count": 1,
   "id": "c22676cb",
   "metadata": {},
   "outputs": [],
   "source": [
    "import pandas as pd\n",
    "import numpy as np\n",
    "import matplotlib.pyplot as plt\n",
    "import math\n",
    "\n",
    "%matplotlib inline"
   ]
  },
  {
   "cell_type": "code",
   "execution_count": 2,
   "id": "0aca0ff7",
   "metadata": {},
   "outputs": [],
   "source": [
    "from datetime import datetime\n",
    "from datetime import timedelta\n",
    "import time"
   ]
  },
  {
   "cell_type": "code",
   "execution_count": 5,
   "id": "0718be2f",
   "metadata": {},
   "outputs": [],
   "source": [
    "df = pd.read_csv('../course-files/marathon_results_2016.csv', index_col='Bib',\n",
    "usecols=['Bib','40K','Half','Pace','Age','M/F','Country','State','City'])\n",
    "df = df[(df['40K'] != '-') & (df['Half'] != '-')]\n",
    "df['40K'] = df['40K'].apply(pd.to_timedelta)\n",
    "df['Half'] = df['Half'].apply(pd.to_timedelta)\n",
    "df['TotalSeconds'] = df['40K'].apply(lambda x: timedelta.total_seconds(x))\n",
    "df['HalfSeconds'] = df['Half'].apply(lambda x: timedelta.total_seconds(x))"
   ]
  },
  {
   "cell_type": "code",
   "execution_count": 6,
   "id": "3a954785",
   "metadata": {},
   "outputs": [
    {
     "name": "stdout",
     "output_type": "stream",
     "text": [
      "<class 'pandas.core.frame.DataFrame'>\n",
      "Index: 26602 entries, 5 to 30690\n",
      "Data columns (total 10 columns):\n",
      " #   Column        Non-Null Count  Dtype          \n",
      "---  ------        --------------  -----          \n",
      " 0   Age           26602 non-null  int64          \n",
      " 1   M/F           26602 non-null  object         \n",
      " 2   City          26601 non-null  object         \n",
      " 3   State         23761 non-null  object         \n",
      " 4   Country       26602 non-null  object         \n",
      " 5   Half          26602 non-null  timedelta64[ns]\n",
      " 6   40K           26602 non-null  timedelta64[ns]\n",
      " 7   Pace          26602 non-null  object         \n",
      " 8   TotalSeconds  26602 non-null  float64        \n",
      " 9   HalfSeconds   26602 non-null  float64        \n",
      "dtypes: float64(2), int64(1), object(5), timedelta64[ns](2)\n",
      "memory usage: 2.2+ MB\n"
     ]
    }
   ],
   "source": [
    "df.info()"
   ]
  },
  {
   "cell_type": "code",
   "execution_count": 7,
   "id": "a21c7c3c",
   "metadata": {},
   "outputs": [
    {
     "data": {
      "text/html": [
       "<div>\n",
       "<style scoped>\n",
       "    .dataframe tbody tr th:only-of-type {\n",
       "        vertical-align: middle;\n",
       "    }\n",
       "\n",
       "    .dataframe tbody tr th {\n",
       "        vertical-align: top;\n",
       "    }\n",
       "\n",
       "    .dataframe thead th {\n",
       "        text-align: right;\n",
       "    }\n",
       "</style>\n",
       "<table border=\"1\" class=\"dataframe\">\n",
       "  <thead>\n",
       "    <tr style=\"text-align: right;\">\n",
       "      <th></th>\n",
       "      <th>Age</th>\n",
       "      <th>Half</th>\n",
       "      <th>40K</th>\n",
       "      <th>TotalSeconds</th>\n",
       "      <th>HalfSeconds</th>\n",
       "    </tr>\n",
       "  </thead>\n",
       "  <tbody>\n",
       "    <tr>\n",
       "      <th>count</th>\n",
       "      <td>26602.000000</td>\n",
       "      <td>26602</td>\n",
       "      <td>26602</td>\n",
       "      <td>26602.000000</td>\n",
       "      <td>26602.000000</td>\n",
       "    </tr>\n",
       "    <tr>\n",
       "      <th>mean</th>\n",
       "      <td>42.509548</td>\n",
       "      <td>0 days 01:49:29.066987444</td>\n",
       "      <td>0 days 03:41:56.812570483</td>\n",
       "      <td>13316.812570</td>\n",
       "      <td>6569.066987</td>\n",
       "    </tr>\n",
       "    <tr>\n",
       "      <th>std</th>\n",
       "      <td>11.346732</td>\n",
       "      <td>0 days 00:17:51.805993318</td>\n",
       "      <td>0 days 00:38:54.211165039</td>\n",
       "      <td>2334.211165</td>\n",
       "      <td>1071.805993</td>\n",
       "    </tr>\n",
       "    <tr>\n",
       "      <th>min</th>\n",
       "      <td>18.000000</td>\n",
       "      <td>0 days 01:06:44</td>\n",
       "      <td>0 days 02:05:59</td>\n",
       "      <td>7559.000000</td>\n",
       "      <td>4004.000000</td>\n",
       "    </tr>\n",
       "    <tr>\n",
       "      <th>25%</th>\n",
       "      <td>34.000000</td>\n",
       "      <td>0 days 01:36:52</td>\n",
       "      <td>0 days 03:14:53.250000</td>\n",
       "      <td>11693.250000</td>\n",
       "      <td>5812.000000</td>\n",
       "    </tr>\n",
       "    <tr>\n",
       "      <th>50%</th>\n",
       "      <td>43.000000</td>\n",
       "      <td>0 days 01:47:00</td>\n",
       "      <td>0 days 03:35:15</td>\n",
       "      <td>12915.000000</td>\n",
       "      <td>6420.000000</td>\n",
       "    </tr>\n",
       "    <tr>\n",
       "      <th>75%</th>\n",
       "      <td>51.000000</td>\n",
       "      <td>0 days 01:58:33</td>\n",
       "      <td>0 days 04:02:20.750000</td>\n",
       "      <td>14540.750000</td>\n",
       "      <td>7113.000000</td>\n",
       "    </tr>\n",
       "    <tr>\n",
       "      <th>max</th>\n",
       "      <td>83.000000</td>\n",
       "      <td>0 days 03:40:17</td>\n",
       "      <td>0 days 07:59:12</td>\n",
       "      <td>28752.000000</td>\n",
       "      <td>13217.000000</td>\n",
       "    </tr>\n",
       "  </tbody>\n",
       "</table>\n",
       "</div>"
      ],
      "text/plain": [
       "                Age                       Half                        40K   \n",
       "count  26602.000000                      26602                      26602  \\\n",
       "mean      42.509548  0 days 01:49:29.066987444  0 days 03:41:56.812570483   \n",
       "std       11.346732  0 days 00:17:51.805993318  0 days 00:38:54.211165039   \n",
       "min       18.000000            0 days 01:06:44            0 days 02:05:59   \n",
       "25%       34.000000            0 days 01:36:52     0 days 03:14:53.250000   \n",
       "50%       43.000000            0 days 01:47:00            0 days 03:35:15   \n",
       "75%       51.000000            0 days 01:58:33     0 days 04:02:20.750000   \n",
       "max       83.000000            0 days 03:40:17            0 days 07:59:12   \n",
       "\n",
       "       TotalSeconds   HalfSeconds  \n",
       "count  26602.000000  26602.000000  \n",
       "mean   13316.812570   6569.066987  \n",
       "std     2334.211165   1071.805993  \n",
       "min     7559.000000   4004.000000  \n",
       "25%    11693.250000   5812.000000  \n",
       "50%    12915.000000   6420.000000  \n",
       "75%    14540.750000   7113.000000  \n",
       "max    28752.000000  13217.000000  "
      ]
     },
     "execution_count": 7,
     "metadata": {},
     "output_type": "execute_result"
    }
   ],
   "source": [
    "df.describe()"
   ]
  },
  {
   "cell_type": "code",
   "execution_count": 11,
   "id": "fc37dc84",
   "metadata": {},
   "outputs": [
    {
     "data": {
      "text/plain": [
       "Country\n",
       "USA    21632\n",
       "CAN     2129\n",
       "GBR      365\n",
       "MEX      252\n",
       "JPN      185\n",
       "       ...  \n",
       "ROU        1\n",
       "AND        1\n",
       "JAM        1\n",
       "FLK        1\n",
       "PAK        1\n",
       "Name: count, Length: 79, dtype: int64"
      ]
     },
     "execution_count": 11,
     "metadata": {},
     "output_type": "execute_result"
    }
   ],
   "source": [
    "df.Country.value_counts()"
   ]
  },
  {
   "cell_type": "code",
   "execution_count": 10,
   "id": "329f7912",
   "metadata": {},
   "outputs": [
    {
     "data": {
      "text/plain": [
       "array(['ETH', 'KEN', 'NED', 'USA', 'ZIM', 'UGA', 'BRA', 'JPN', 'ITA',\n",
       "       'ESP', 'LAT', 'CAN', 'NZL', 'AUS', 'SVK', 'MEX', 'FIN', 'GBR',\n",
       "       'FRA', 'CHN', 'CHI', 'PHI', 'GUA', 'COL', 'BEL', 'DEN', 'POL',\n",
       "       'NOR', 'CRC', 'HKG', 'LTU', 'PER', 'CZE', 'RUS', 'TWN', 'URU',\n",
       "       'GER', 'IRL', 'SWE', 'KOR', 'PAN', 'CRO', 'BER', 'RSA', 'HON',\n",
       "       'ARG', 'SIN', 'EST', 'SUI', 'DOM', 'POR', 'AUT', 'ECU', 'ESA',\n",
       "       'ISL', 'SLO', 'ISR', 'UKR', 'FLK', 'VEN', 'HUN', 'IND', 'UAE',\n",
       "       'JAM', 'AND', 'ROU', 'LUX', 'VGB', 'INA', 'GRE', 'JOR', 'ALB',\n",
       "       'TRI', 'VIE', 'SRB', 'CAY', 'MAR', 'MAS', 'PAK'], dtype=object)"
      ]
     },
     "execution_count": 10,
     "metadata": {},
     "output_type": "execute_result"
    }
   ],
   "source": [
    "df.Country.unique()"
   ]
  },
  {
   "cell_type": "code",
   "execution_count": 12,
   "id": "8a06e0af",
   "metadata": {},
   "outputs": [
    {
     "data": {
      "text/plain": [
       "79"
      ]
     },
     "execution_count": 12,
     "metadata": {},
     "output_type": "execute_result"
    }
   ],
   "source": [
    "df.Country.nunique()"
   ]
  },
  {
   "cell_type": "code",
   "execution_count": 13,
   "id": "e355e66b",
   "metadata": {},
   "outputs": [],
   "source": [
    "cities = df.City.unique()"
   ]
  },
  {
   "cell_type": "code",
   "execution_count": 14,
   "id": "c42f767a",
   "metadata": {},
   "outputs": [],
   "source": [
    "groups = {}"
   ]
  },
  {
   "cell_type": "code",
   "execution_count": 18,
   "id": "24828aed",
   "metadata": {},
   "outputs": [],
   "source": [
    "for i in cities:\n",
    "    temp = df[df.City == i]\n",
    "    groups[i] = temp"
   ]
  },
  {
   "cell_type": "code",
   "execution_count": 19,
   "id": "0578ee84",
   "metadata": {},
   "outputs": [
    {
     "data": {
      "text/html": [
       "<div>\n",
       "<style scoped>\n",
       "    .dataframe tbody tr th:only-of-type {\n",
       "        vertical-align: middle;\n",
       "    }\n",
       "\n",
       "    .dataframe tbody tr th {\n",
       "        vertical-align: top;\n",
       "    }\n",
       "\n",
       "    .dataframe thead th {\n",
       "        text-align: right;\n",
       "    }\n",
       "</style>\n",
       "<table border=\"1\" class=\"dataframe\">\n",
       "  <thead>\n",
       "    <tr style=\"text-align: right;\">\n",
       "      <th></th>\n",
       "      <th>Age</th>\n",
       "      <th>Half</th>\n",
       "      <th>40K</th>\n",
       "      <th>TotalSeconds</th>\n",
       "      <th>HalfSeconds</th>\n",
       "    </tr>\n",
       "  </thead>\n",
       "  <tbody>\n",
       "    <tr>\n",
       "      <th>count</th>\n",
       "      <td>197.000000</td>\n",
       "      <td>197</td>\n",
       "      <td>197</td>\n",
       "      <td>197.000000</td>\n",
       "      <td>197.000000</td>\n",
       "    </tr>\n",
       "    <tr>\n",
       "      <th>mean</th>\n",
       "      <td>36.309645</td>\n",
       "      <td>0 days 01:42:24.390862944</td>\n",
       "      <td>0 days 03:25:35.335025380</td>\n",
       "      <td>12335.335025</td>\n",
       "      <td>6144.390863</td>\n",
       "    </tr>\n",
       "    <tr>\n",
       "      <th>std</th>\n",
       "      <td>10.600373</td>\n",
       "      <td>0 days 00:15:31.836366973</td>\n",
       "      <td>0 days 00:34:13.037100532</td>\n",
       "      <td>2053.037101</td>\n",
       "      <td>931.836367</td>\n",
       "    </tr>\n",
       "    <tr>\n",
       "      <th>min</th>\n",
       "      <td>22.000000</td>\n",
       "      <td>0 days 01:14:21</td>\n",
       "      <td>0 days 02:29:21</td>\n",
       "      <td>8961.000000</td>\n",
       "      <td>4461.000000</td>\n",
       "    </tr>\n",
       "    <tr>\n",
       "      <th>25%</th>\n",
       "      <td>28.000000</td>\n",
       "      <td>0 days 01:30:11</td>\n",
       "      <td>0 days 03:02:06</td>\n",
       "      <td>10926.000000</td>\n",
       "      <td>5411.000000</td>\n",
       "    </tr>\n",
       "    <tr>\n",
       "      <th>50%</th>\n",
       "      <td>34.000000</td>\n",
       "      <td>0 days 01:41:50</td>\n",
       "      <td>0 days 03:21:13</td>\n",
       "      <td>12073.000000</td>\n",
       "      <td>6110.000000</td>\n",
       "    </tr>\n",
       "    <tr>\n",
       "      <th>75%</th>\n",
       "      <td>42.000000</td>\n",
       "      <td>0 days 01:48:48</td>\n",
       "      <td>0 days 03:39:35</td>\n",
       "      <td>13175.000000</td>\n",
       "      <td>6528.000000</td>\n",
       "    </tr>\n",
       "    <tr>\n",
       "      <th>max</th>\n",
       "      <td>80.000000</td>\n",
       "      <td>0 days 02:45:21</td>\n",
       "      <td>0 days 05:39:13</td>\n",
       "      <td>20353.000000</td>\n",
       "      <td>9921.000000</td>\n",
       "    </tr>\n",
       "  </tbody>\n",
       "</table>\n",
       "</div>"
      ],
      "text/plain": [
       "              Age                       Half                        40K   \n",
       "count  197.000000                        197                        197  \\\n",
       "mean    36.309645  0 days 01:42:24.390862944  0 days 03:25:35.335025380   \n",
       "std     10.600373  0 days 00:15:31.836366973  0 days 00:34:13.037100532   \n",
       "min     22.000000            0 days 01:14:21            0 days 02:29:21   \n",
       "25%     28.000000            0 days 01:30:11            0 days 03:02:06   \n",
       "50%     34.000000            0 days 01:41:50            0 days 03:21:13   \n",
       "75%     42.000000            0 days 01:48:48            0 days 03:39:35   \n",
       "max     80.000000            0 days 02:45:21            0 days 05:39:13   \n",
       "\n",
       "       TotalSeconds  HalfSeconds  \n",
       "count    197.000000   197.000000  \n",
       "mean   12335.335025  6144.390863  \n",
       "std     2053.037101   931.836367  \n",
       "min     8961.000000  4461.000000  \n",
       "25%    10926.000000  5411.000000  \n",
       "50%    12073.000000  6110.000000  \n",
       "75%    13175.000000  6528.000000  \n",
       "max    20353.000000  9921.000000  "
      ]
     },
     "execution_count": 19,
     "metadata": {},
     "output_type": "execute_result"
    }
   ],
   "source": [
    "groups[\"San Francisco\"].describe()"
   ]
  },
  {
   "cell_type": "code",
   "execution_count": 20,
   "id": "bbc0f41f",
   "metadata": {},
   "outputs": [
    {
     "data": {
      "text/html": [
       "<div>\n",
       "<style scoped>\n",
       "    .dataframe tbody tr th:only-of-type {\n",
       "        vertical-align: middle;\n",
       "    }\n",
       "\n",
       "    .dataframe tbody tr th {\n",
       "        vertical-align: top;\n",
       "    }\n",
       "\n",
       "    .dataframe thead th {\n",
       "        text-align: right;\n",
       "    }\n",
       "</style>\n",
       "<table border=\"1\" class=\"dataframe\">\n",
       "  <thead>\n",
       "    <tr style=\"text-align: right;\">\n",
       "      <th></th>\n",
       "      <th>Age</th>\n",
       "      <th>Half</th>\n",
       "      <th>40K</th>\n",
       "      <th>TotalSeconds</th>\n",
       "      <th>HalfSeconds</th>\n",
       "    </tr>\n",
       "  </thead>\n",
       "  <tbody>\n",
       "    <tr>\n",
       "      <th>count</th>\n",
       "      <td>5.00000</td>\n",
       "      <td>5</td>\n",
       "      <td>5</td>\n",
       "      <td>5.000000</td>\n",
       "      <td>5.000000</td>\n",
       "    </tr>\n",
       "    <tr>\n",
       "      <th>mean</th>\n",
       "      <td>25.00000</td>\n",
       "      <td>0 days 01:08:30.200000</td>\n",
       "      <td>0 days 02:13:47.600000</td>\n",
       "      <td>8027.600000</td>\n",
       "      <td>4110.200000</td>\n",
       "    </tr>\n",
       "    <tr>\n",
       "      <th>std</th>\n",
       "      <td>4.84768</td>\n",
       "      <td>0 days 00:03:55.793765820</td>\n",
       "      <td>0 days 00:10:07.503744844</td>\n",
       "      <td>607.503745</td>\n",
       "      <td>235.793766</td>\n",
       "    </tr>\n",
       "    <tr>\n",
       "      <th>min</th>\n",
       "      <td>20.00000</td>\n",
       "      <td>0 days 01:06:44</td>\n",
       "      <td>0 days 02:05:59</td>\n",
       "      <td>7559.000000</td>\n",
       "      <td>4004.000000</td>\n",
       "    </tr>\n",
       "    <tr>\n",
       "      <th>25%</th>\n",
       "      <td>21.00000</td>\n",
       "      <td>0 days 01:06:45</td>\n",
       "      <td>0 days 02:06:47</td>\n",
       "      <td>7607.000000</td>\n",
       "      <td>4005.000000</td>\n",
       "    </tr>\n",
       "    <tr>\n",
       "      <th>50%</th>\n",
       "      <td>24.00000</td>\n",
       "      <td>0 days 01:06:45</td>\n",
       "      <td>0 days 02:10:57</td>\n",
       "      <td>7857.000000</td>\n",
       "      <td>4005.000000</td>\n",
       "    </tr>\n",
       "    <tr>\n",
       "      <th>75%</th>\n",
       "      <td>29.00000</td>\n",
       "      <td>0 days 01:06:45</td>\n",
       "      <td>0 days 02:14:23</td>\n",
       "      <td>8063.000000</td>\n",
       "      <td>4005.000000</td>\n",
       "    </tr>\n",
       "    <tr>\n",
       "      <th>max</th>\n",
       "      <td>31.00000</td>\n",
       "      <td>0 days 01:15:32</td>\n",
       "      <td>0 days 02:30:52</td>\n",
       "      <td>9052.000000</td>\n",
       "      <td>4532.000000</td>\n",
       "    </tr>\n",
       "  </tbody>\n",
       "</table>\n",
       "</div>"
      ],
      "text/plain": [
       "            Age                       Half                        40K   \n",
       "count   5.00000                          5                          5  \\\n",
       "mean   25.00000     0 days 01:08:30.200000     0 days 02:13:47.600000   \n",
       "std     4.84768  0 days 00:03:55.793765820  0 days 00:10:07.503744844   \n",
       "min    20.00000            0 days 01:06:44            0 days 02:05:59   \n",
       "25%    21.00000            0 days 01:06:45            0 days 02:06:47   \n",
       "50%    24.00000            0 days 01:06:45            0 days 02:10:57   \n",
       "75%    29.00000            0 days 01:06:45            0 days 02:14:23   \n",
       "max    31.00000            0 days 01:15:32            0 days 02:30:52   \n",
       "\n",
       "       TotalSeconds  HalfSeconds  \n",
       "count      5.000000     5.000000  \n",
       "mean    8027.600000  4110.200000  \n",
       "std      607.503745   235.793766  \n",
       "min     7559.000000  4004.000000  \n",
       "25%     7607.000000  4005.000000  \n",
       "50%     7857.000000  4005.000000  \n",
       "75%     8063.000000  4005.000000  \n",
       "max     9052.000000  4532.000000  "
      ]
     },
     "execution_count": 20,
     "metadata": {},
     "output_type": "execute_result"
    }
   ],
   "source": [
    "groups[\"Addis Ababa\"].describe()"
   ]
  },
  {
   "cell_type": "code",
   "execution_count": null,
   "id": "67f9d55f",
   "metadata": {},
   "outputs": [],
   "source": []
  }
 ],
 "metadata": {
  "kernelspec": {
   "display_name": "Python 3 (ipykernel)",
   "language": "python",
   "name": "python3"
  },
  "language_info": {
   "codemirror_mode": {
    "name": "ipython",
    "version": 3
   },
   "file_extension": ".py",
   "mimetype": "text/x-python",
   "name": "python",
   "nbconvert_exporter": "python",
   "pygments_lexer": "ipython3",
   "version": "3.11.3"
  }
 },
 "nbformat": 4,
 "nbformat_minor": 5
}
