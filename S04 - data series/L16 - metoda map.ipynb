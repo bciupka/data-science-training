{
 "cells": [
  {
   "cell_type": "markdown",
   "id": "ee39cb2a",
   "metadata": {},
   "source": [
    "Metoda map przyporządkowuje serie/dict, a konkretnie wartości serii/słownika do elementów serii bazowej. Wszystko według klucza zawartego w indeksie/kluczu. Wartości w serii A powinny być indeksem w serii B - w skrócie."
   ]
  },
  {
   "cell_type": "code",
   "execution_count": 2,
   "id": "d9d4e1bf",
   "metadata": {},
   "outputs": [],
   "source": [
    "import pandas as pd\n",
    "import numpy as np\n",
    "import matplotlib.pyplot as plt\n",
    "import math\n",
    "import random as rd\n",
    "\n",
    "%matplotlib inline"
   ]
  },
  {
   "cell_type": "code",
   "execution_count": 3,
   "id": "e5f3cf06",
   "metadata": {},
   "outputs": [],
   "source": [
    "planes = {\"PYT001\":\"Airbus 320\", \"PYT002\":\"Boeing 737\", \"PYT003\":\"Airbus 321\"}"
   ]
  },
  {
   "cell_type": "code",
   "execution_count": 5,
   "id": "b1f7887c",
   "metadata": {},
   "outputs": [
    {
     "data": {
      "text/plain": [
       "PYT001    Airbus 320\n",
       "PYT002    Boeing 737\n",
       "PYT003    Airbus 321\n",
       "dtype: object"
      ]
     },
     "execution_count": 5,
     "metadata": {},
     "output_type": "execute_result"
    }
   ],
   "source": [
    "aircrafts = pd.Series(planes)\n",
    "aircrafts"
   ]
  },
  {
   "cell_type": "code",
   "execution_count": 16,
   "id": "51fdb79a",
   "metadata": {},
   "outputs": [
    {
     "data": {
      "text/plain": [
       "['PYT003', 'PYT001', 'PYT002', 'PYT002', 'PYT003']"
      ]
     },
     "execution_count": 16,
     "metadata": {},
     "output_type": "execute_result"
    }
   ],
   "source": [
    "flightsList = []\n",
    "for i in range(100):\n",
    "    flightsList.append(rd.choice(aircrafts.index))\n",
    "flightsList[:5]"
   ]
  },
  {
   "cell_type": "code",
   "execution_count": 17,
   "id": "5fbdb03e",
   "metadata": {},
   "outputs": [
    {
     "data": {
      "text/plain": [
       "0    PYT003\n",
       "1    PYT001\n",
       "2    PYT002\n",
       "3    PYT002\n",
       "4    PYT003\n",
       "dtype: object"
      ]
     },
     "execution_count": 17,
     "metadata": {},
     "output_type": "execute_result"
    }
   ],
   "source": [
    "flights = pd.Series(flightsList)\n",
    "flights.head()"
   ]
  },
  {
   "cell_type": "code",
   "execution_count": 18,
   "id": "4ffa87d9",
   "metadata": {},
   "outputs": [],
   "source": [
    "flights_aircrafts = flights.map(aircrafts)"
   ]
  },
  {
   "cell_type": "code",
   "execution_count": 19,
   "id": "63ecb46b",
   "metadata": {},
   "outputs": [
    {
     "data": {
      "text/plain": [
       "0    Airbus 321\n",
       "1    Airbus 320\n",
       "2    Boeing 737\n",
       "3    Boeing 737\n",
       "4    Airbus 321\n",
       "dtype: object"
      ]
     },
     "execution_count": 19,
     "metadata": {},
     "output_type": "execute_result"
    }
   ],
   "source": [
    "flights_aircrafts.head()"
   ]
  },
  {
   "cell_type": "code",
   "execution_count": null,
   "id": "145e857e",
   "metadata": {},
   "outputs": [],
   "source": []
  }
 ],
 "metadata": {
  "kernelspec": {
   "display_name": "Python 3 (ipykernel)",
   "language": "python",
   "name": "python3"
  },
  "language_info": {
   "codemirror_mode": {
    "name": "ipython",
    "version": 3
   },
   "file_extension": ".py",
   "mimetype": "text/x-python",
   "name": "python",
   "nbconvert_exporter": "python",
   "pygments_lexer": "ipython3",
   "version": "3.9.16"
  }
 },
 "nbformat": 4,
 "nbformat_minor": 5
}
