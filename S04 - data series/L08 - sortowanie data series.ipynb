{
 "cells": [
  {
   "cell_type": "markdown",
   "id": "9937d191",
   "metadata": {},
   "source": [
    "Dla oszczędności pamięci zawsze inplace=True\n",
    "\n",
    "Z jakiegoś powodu nie można zapisać inplace obiektu bezpośrednio po sqeeze (tylko w przypadku sortowania)\n",
    "\n",
    "**ValueError: This Series is a view of some other array, to sort in-place you must create a copy**"
   ]
  },
  {
   "cell_type": "code",
   "execution_count": 1,
   "id": "20c65459",
   "metadata": {},
   "outputs": [],
   "source": [
    "import pandas as pd\n",
    "import numpy as np\n",
    "import matplotlib.pyplot as plt\n",
    "import math\n",
    "\n",
    "%matplotlib inline"
   ]
  },
  {
   "cell_type": "code",
   "execution_count": 2,
   "id": "77a0ab1f",
   "metadata": {},
   "outputs": [],
   "source": [
    "salary = pd.read_csv(\"..\\course-files\\StackOverflowDeveloperSurvey.csv\", usecols=[\"Salary\"]).dropna().squeeze()"
   ]
  },
  {
   "cell_type": "code",
   "execution_count": 3,
   "id": "d2b91fd0",
   "metadata": {},
   "outputs": [],
   "source": [
    "salary2 = salary.copy()"
   ]
  },
  {
   "cell_type": "code",
   "execution_count": 4,
   "id": "5e517d63",
   "metadata": {},
   "outputs": [
    {
     "data": {
      "text/plain": [
       "2     113750.0\n",
       "14    100000.0\n",
       "17    130000.0\n",
       "18     82500.0\n",
       "22    100764.0\n",
       "Name: Salary, dtype: float64"
      ]
     },
     "execution_count": 4,
     "metadata": {},
     "output_type": "execute_result"
    }
   ],
   "source": [
    "salary2.head()"
   ]
  },
  {
   "cell_type": "code",
   "execution_count": 5,
   "id": "47586c73",
   "metadata": {},
   "outputs": [
    {
     "data": {
      "text/plain": [
       "31600    197000.0\n",
       "27943    195000.0\n",
       "6743     195000.0\n",
       "18237    195000.0\n",
       "41398    195000.0\n",
       "Name: Salary, dtype: float64"
      ]
     },
     "execution_count": 5,
     "metadata": {},
     "output_type": "execute_result"
    }
   ],
   "source": [
    "salary2.sort_values(ascending=False).head()"
   ]
  },
  {
   "cell_type": "code",
   "execution_count": 6,
   "id": "2a4114ee",
   "metadata": {},
   "outputs": [
    {
     "data": {
      "text/plain": [
       "51144    0.0\n",
       "23953    0.0\n",
       "23907    0.0\n",
       "44841    0.0\n",
       "2951     0.0\n",
       "Name: Salary, dtype: float64"
      ]
     },
     "execution_count": 6,
     "metadata": {},
     "output_type": "execute_result"
    }
   ],
   "source": [
    "salary2.sort_values().head()"
   ]
  },
  {
   "cell_type": "code",
   "execution_count": 7,
   "id": "6648f38e",
   "metadata": {},
   "outputs": [
    {
     "data": {
      "text/plain": [
       "2     113750.0\n",
       "14    100000.0\n",
       "17    130000.0\n",
       "18     82500.0\n",
       "22    100764.0\n",
       "Name: Salary, dtype: float64"
      ]
     },
     "execution_count": 7,
     "metadata": {},
     "output_type": "execute_result"
    }
   ],
   "source": [
    "salary2.head()"
   ]
  },
  {
   "cell_type": "code",
   "execution_count": 8,
   "id": "2a74ab7b",
   "metadata": {},
   "outputs": [],
   "source": [
    "salary2.sort_values(ascending=False, inplace=True)"
   ]
  },
  {
   "cell_type": "code",
   "execution_count": 9,
   "id": "847fe1e3",
   "metadata": {},
   "outputs": [
    {
     "data": {
      "text/plain": [
       "31600    197000.0\n",
       "27943    195000.0\n",
       "6743     195000.0\n",
       "18237    195000.0\n",
       "41398    195000.0\n",
       "Name: Salary, dtype: float64"
      ]
     },
     "execution_count": 9,
     "metadata": {},
     "output_type": "execute_result"
    }
   ],
   "source": [
    "salary2.head()"
   ]
  },
  {
   "cell_type": "code",
   "execution_count": 12,
   "id": "a64050bd",
   "metadata": {},
   "outputs": [],
   "source": [
    "salary2.sort_index(ascending=False, inplace=True)"
   ]
  },
  {
   "cell_type": "code",
   "execution_count": 13,
   "id": "d7353b8d",
   "metadata": {},
   "outputs": [
    {
     "data": {
      "text/plain": [
       "51390     40000.000000\n",
       "51387     58000.000000\n",
       "51382     32258.064516\n",
       "51378    107526.881720\n",
       "51371     74193.548387\n",
       "Name: Salary, dtype: float64"
      ]
     },
     "execution_count": 13,
     "metadata": {},
     "output_type": "execute_result"
    }
   ],
   "source": [
    "salary2.head()"
   ]
  },
  {
   "cell_type": "code",
   "execution_count": 19,
   "id": "07540de8",
   "metadata": {},
   "outputs": [],
   "source": [
    "maxSalaries = salary2.sort_values(ascending=False).head(100)\n",
    "minSalaries = salary2.sort_values().head(100)"
   ]
  },
  {
   "cell_type": "code",
   "execution_count": 20,
   "id": "bd9d33bb",
   "metadata": {},
   "outputs": [
    {
     "data": {
      "text/plain": [
       "67.08388907133794"
      ]
     },
     "execution_count": 20,
     "metadata": {},
     "output_type": "execute_result"
    }
   ],
   "source": [
    "minSalaries.mean()"
   ]
  },
  {
   "cell_type": "code",
   "execution_count": 21,
   "id": "5889840d",
   "metadata": {},
   "outputs": [
    {
     "data": {
      "text/plain": [
       "180198.1045586777"
      ]
     },
     "execution_count": 21,
     "metadata": {},
     "output_type": "execute_result"
    }
   ],
   "source": [
    "maxSalaries.mean()"
   ]
  },
  {
   "cell_type": "markdown",
   "id": "5ff3d6b7",
   "metadata": {},
   "source": []
  }
 ],
 "metadata": {
  "kernelspec": {
   "display_name": "Python 3 (ipykernel)",
   "language": "python",
   "name": "python3"
  },
  "language_info": {
   "codemirror_mode": {
    "name": "ipython",
    "version": 3
   },
   "file_extension": ".py",
   "mimetype": "text/x-python",
   "name": "python",
   "nbconvert_exporter": "python",
   "pygments_lexer": "ipython3",
   "version": "3.9.16"
  }
 },
 "nbformat": 4,
 "nbformat_minor": 5
}
