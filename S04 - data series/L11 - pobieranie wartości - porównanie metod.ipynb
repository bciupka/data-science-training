{
 "cells": [
  {
   "cell_type": "markdown",
   "id": "0508cc56",
   "metadata": {},
   "source": [
    "[] - działa różnie w zależności czy wyciąga sie konkretne wartości czy zbiór. Dla konkretnych wartości pobiera index dla zakresów kolejność. Zgłasza errory dla nieistniejących wartości. Dla powielonego indexu zwraca series.\n",
    "\n",
    "get() - działa jak [] tyle, że zgłasza błędy. Nie obsługuje zakresów\n",
    "\n",
    "at[] - działa na index, zgłasza błedy. Zduplikowane indexy wyrzuca jako array\n",
    "\n",
    "iat[] - działa na kolejność, nie obsługuje wielu warości\n",
    "\n",
    "loc[] - działa jak at tyle, że zwraca series przy duplikatach.\n",
    "\n",
    "iloc[] - działa na pozycji tak jak iat tyle,ze obsługuje wiele wartości. Zgłasza errory\n",
    "\n",
    "ix[] - usunięta z Pandas\n",
    "\n",
    "OKAZUJE SIE, ŻE [] I GET JEDNAK DZIAŁAJĄ TROCHE JAK IX[] - NIE ZGŁASZAJĄ BŁĘDÓW ANI NIE WYPLUWAJĄ PUSTYCH LIST JEŻELI WYBIERZE SIĘ POJEDYNCZA POZYCJĘ. PRAWDOPODOBNIE JEŻELI NIE ZNAJDZIE TAKIEGO INDEXU.\n",
    "\n",
    "Jeżeli podajemy zakres w loc (indexy są liczbowe) to jest to zakres zamknięty obustronnie, jeżeli w iloc - zakres zamknięty z lewej\n",
    "\n",
    "Sztuczki z [-10:] działają tylko w [] bez metody"
   ]
  },
  {
   "cell_type": "code",
   "execution_count": 2,
   "id": "1e52579d",
   "metadata": {},
   "outputs": [],
   "source": [
    "import pandas as pd\n",
    "import numpy as np\n",
    "import matplotlib.pyplot as plt\n",
    "import math\n",
    "\n",
    "%matplotlib inline"
   ]
  },
  {
   "cell_type": "code",
   "execution_count": 3,
   "id": "9d162d94",
   "metadata": {},
   "outputs": [],
   "source": [
    "countries = pd.read_csv(\"..\\course-files\\countries.csv\", usecols=[\"Symbol\", \"Name\"], index_col=\"Symbol\").squeeze()"
   ]
  },
  {
   "cell_type": "code",
   "execution_count": 4,
   "id": "2141aca8",
   "metadata": {},
   "outputs": [
    {
     "data": {
      "text/plain": [
       "Symbol\n",
       "AF            Afghanistan\n",
       "AL                Albania\n",
       "DZ                Algeria\n",
       "AD                Andorra\n",
       "AO                 Angola\n",
       "AI               Anguilla\n",
       "AQ             Antarctica\n",
       "AG    Antigua and Barbuda\n",
       "SA           Saudi Arabia\n",
       "AR              Argentina\n",
       "AM                Armenia\n",
       "AW                  Aruba\n",
       "AU              Australia\n",
       "AT                Austria\n",
       "AZ             Azerbaijan\n",
       "BS                Bahamas\n",
       "BH                Bahrain\n",
       "BD             Bangladesh\n",
       "BB               Barbados\n",
       "BE                Belgium\n",
       "Name: Name, dtype: object"
      ]
     },
     "execution_count": 4,
     "metadata": {},
     "output_type": "execute_result"
    }
   ],
   "source": [
    "countries.iloc[:20]"
   ]
  },
  {
   "cell_type": "code",
   "execution_count": 5,
   "id": "273d29a9",
   "metadata": {},
   "outputs": [
    {
     "data": {
      "text/plain": [
       "Symbol\n",
       "AF            Afghanistan\n",
       "AL                Albania\n",
       "DZ                Algeria\n",
       "AD                Andorra\n",
       "AO                 Angola\n",
       "AI               Anguilla\n",
       "AQ             Antarctica\n",
       "AG    Antigua and Barbuda\n",
       "SA           Saudi Arabia\n",
       "AR              Argentina\n",
       "AM                Armenia\n",
       "AW                  Aruba\n",
       "AU              Australia\n",
       "AT                Austria\n",
       "AZ             Azerbaijan\n",
       "BS                Bahamas\n",
       "BH                Bahrain\n",
       "BD             Bangladesh\n",
       "BB               Barbados\n",
       "BE                Belgium\n",
       "Name: Name, dtype: object"
      ]
     },
     "execution_count": 5,
     "metadata": {},
     "output_type": "execute_result"
    }
   ],
   "source": [
    "countries[:20]"
   ]
  },
  {
   "cell_type": "code",
   "execution_count": 6,
   "id": "0fcddabe",
   "metadata": {},
   "outputs": [
    {
     "data": {
      "text/plain": [
       "'France'"
      ]
     },
     "execution_count": 6,
     "metadata": {},
     "output_type": "execute_result"
    }
   ],
   "source": [
    "countries.loc[\"FR\"]"
   ]
  },
  {
   "cell_type": "code",
   "execution_count": 7,
   "id": "e95cae48",
   "metadata": {},
   "outputs": [
    {
     "data": {
      "text/plain": [
       "'France'"
      ]
     },
     "execution_count": 7,
     "metadata": {},
     "output_type": "execute_result"
    }
   ],
   "source": [
    "countries.at[\"FR\"]"
   ]
  },
  {
   "cell_type": "code",
   "execution_count": 8,
   "id": "9dc3c195",
   "metadata": {},
   "outputs": [
    {
     "data": {
      "text/plain": [
       "'France'"
      ]
     },
     "execution_count": 8,
     "metadata": {},
     "output_type": "execute_result"
    }
   ],
   "source": [
    "countries[\"FR\"]"
   ]
  },
  {
   "cell_type": "code",
   "execution_count": 9,
   "id": "337aa734",
   "metadata": {},
   "outputs": [
    {
     "data": {
      "text/plain": [
       "'France'"
      ]
     },
     "execution_count": 9,
     "metadata": {},
     "output_type": "execute_result"
    }
   ],
   "source": [
    "countries.get(\"FR\")"
   ]
  },
  {
   "cell_type": "code",
   "execution_count": 10,
   "id": "e5a19caf",
   "metadata": {},
   "outputs": [
    {
     "data": {
      "text/plain": [
       "'France'"
      ]
     },
     "execution_count": 10,
     "metadata": {},
     "output_type": "execute_result"
    }
   ],
   "source": [
    "countries.get(\"FR\")"
   ]
  },
  {
   "cell_type": "code",
   "execution_count": 11,
   "id": "6b494bba",
   "metadata": {},
   "outputs": [],
   "source": [
    "nordic = countries.loc[[\"FI\", \"SE\", \"NO\"]]"
   ]
  },
  {
   "cell_type": "code",
   "execution_count": 12,
   "id": "ca8e6e9b",
   "metadata": {},
   "outputs": [
    {
     "data": {
      "text/plain": [
       "'Finland'"
      ]
     },
     "execution_count": 12,
     "metadata": {},
     "output_type": "execute_result"
    }
   ],
   "source": [
    "nordic.at[\"FI\"]"
   ]
  },
  {
   "cell_type": "code",
   "execution_count": 13,
   "id": "ad334b91",
   "metadata": {},
   "outputs": [
    {
     "data": {
      "text/plain": [
       "'Sweden'"
      ]
     },
     "execution_count": 13,
     "metadata": {},
     "output_type": "execute_result"
    }
   ],
   "source": [
    "nordic.loc[\"SE\"]"
   ]
  },
  {
   "cell_type": "code",
   "execution_count": 14,
   "id": "ba1269a9",
   "metadata": {},
   "outputs": [
    {
     "data": {
      "text/plain": [
       "'Norway'"
      ]
     },
     "execution_count": 14,
     "metadata": {},
     "output_type": "execute_result"
    }
   ],
   "source": [
    "nordic.get(\"NO\")"
   ]
  },
  {
   "cell_type": "code",
   "execution_count": 15,
   "id": "b43e36a5",
   "metadata": {},
   "outputs": [
    {
     "data": {
      "text/plain": [
       "'Austria'"
      ]
     },
     "execution_count": 15,
     "metadata": {},
     "output_type": "execute_result"
    }
   ],
   "source": [
    "countries[13]"
   ]
  },
  {
   "cell_type": "code",
   "execution_count": 16,
   "id": "67cd4c12",
   "metadata": {},
   "outputs": [
    {
     "data": {
      "text/plain": [
       "'Austria'"
      ]
     },
     "execution_count": 16,
     "metadata": {},
     "output_type": "execute_result"
    }
   ],
   "source": [
    "countries.get(13)"
   ]
  },
  {
   "cell_type": "code",
   "execution_count": 17,
   "id": "e5f2f01a",
   "metadata": {},
   "outputs": [
    {
     "data": {
      "text/plain": [
       "'Austria'"
      ]
     },
     "execution_count": 17,
     "metadata": {},
     "output_type": "execute_result"
    }
   ],
   "source": [
    "countries.iat[13]"
   ]
  },
  {
   "cell_type": "code",
   "execution_count": 18,
   "id": "ba5cde10",
   "metadata": {},
   "outputs": [
    {
     "data": {
      "text/plain": [
       "'Austria'"
      ]
     },
     "execution_count": 18,
     "metadata": {},
     "output_type": "execute_result"
    }
   ],
   "source": [
    "countries.iloc[13]"
   ]
  },
  {
   "cell_type": "code",
   "execution_count": null,
   "id": "563055a3",
   "metadata": {},
   "outputs": [],
   "source": []
  }
 ],
 "metadata": {
  "kernelspec": {
   "display_name": "Python 3 (ipykernel)",
   "language": "python",
   "name": "python3"
  },
  "language_info": {
   "codemirror_mode": {
    "name": "ipython",
    "version": 3
   },
   "file_extension": ".py",
   "mimetype": "text/x-python",
   "name": "python",
   "nbconvert_exporter": "python",
   "pygments_lexer": "ipython3",
   "version": "3.9.16"
  }
 },
 "nbformat": 4,
 "nbformat_minor": 5
}
