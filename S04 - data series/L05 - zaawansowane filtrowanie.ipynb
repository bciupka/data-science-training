{
 "cells": [
  {
   "cell_type": "markdown",
   "id": "3efa38b0",
   "metadata": {},
   "source": [
    "Warunki zapisane jako seriesy boolowskie można łączyc komaratorem bitowym w metodzie where\n",
    "\n",
    "Inaczej nie da sie wprowadzić większej ilości warunków do where\n",
    "\n",
    "series.between(zakres) - zwraca boolowską, zakres zamknięty obustronnie"
   ]
  },
  {
   "cell_type": "code",
   "execution_count": 1,
   "id": "133cbeb2",
   "metadata": {},
   "outputs": [],
   "source": [
    "import pandas as pd\n",
    "import numpy as np\n",
    "import matplotlib.pyplot as plt\n",
    "import math\n",
    "\n",
    "%matplotlib inline"
   ]
  },
  {
   "cell_type": "code",
   "execution_count": 3,
   "id": "1fc09d28",
   "metadata": {},
   "outputs": [],
   "source": [
    "namesList = ['Albania','Austria','Belarus','Belgium','Bulgaria','Croatia','Cyprus',\n",
    "'Czech Republic','Denmark','Estonia','Finland','France','Germany','Greece'\n",
    "'Hungary','Iceland','Ireland','Italy','Latvia','Lithuania','Luxembourg',\n",
    "'Macedonia','Malta','Montenegro','Netherlands','Norway','Poland','Portugal'\n",
    "'Romania','Russia','Serbia','Slovenia','Spain','Sweden','Switzerland',\n",
    "'United Kingdom','Turkey','Ukraine']\n",
    "namesSeries = pd.Series(namesList)\n",
    "energy2010List = [1947,8347,3564,8369,4560,3814,4623,6348,6328,6506,16483,7736,\n",
    "7264,5318,3876,51440,5911,5494,3230,3471,16830,3521,4171,5420,\n",
    "7010,24891,3797,4959,2551,6410,4359,6521,5707,14934,8175,2498,\n",
    "3550,5701]\n",
    "energy2010Series = pd.Series(energy2010List)\n",
    "energy2012List = [2118,8507,3698,7987,4762,3819,4057,6305,6039,6689,15687,7344,\n",
    "7270,5511,3919,53203,5665,5398,3588,3608,14696,3626,4761,5416,\n",
    "6871,23658,3899,4736,2604,6617,4387,6778,5573,14290,7886,2794,\n",
    "3641,5452]\n",
    "energy2012Series = pd.Series(energy2012List)"
   ]
  },
  {
   "cell_type": "code",
   "execution_count": 6,
   "id": "0f6d764f",
   "metadata": {},
   "outputs": [],
   "source": [
    "mean2010 = energy2010Series.mean()"
   ]
  },
  {
   "cell_type": "code",
   "execution_count": 7,
   "id": "15bb5c65",
   "metadata": {},
   "outputs": [],
   "source": [
    "mean2012 = energy2012Series.mean()"
   ]
  },
  {
   "cell_type": "code",
   "execution_count": 8,
   "id": "a5546098",
   "metadata": {},
   "outputs": [],
   "source": [
    "filterAbovbeMean2010 = energy2010Series > mean2010"
   ]
  },
  {
   "cell_type": "code",
   "execution_count": 9,
   "id": "1ca5da33",
   "metadata": {},
   "outputs": [],
   "source": [
    "filterAbovbeMean2012 = energy2012Series > mean2012"
   ]
  },
  {
   "cell_type": "code",
   "execution_count": 11,
   "id": "9ceb77fd",
   "metadata": {},
   "outputs": [
    {
     "data": {
      "text/plain": [
       "1            Austria\n",
       "3            Belgium\n",
       "10           Finland\n",
       "15           Ireland\n",
       "20         Macedonia\n",
       "25            Poland\n",
       "33    United Kingdom\n",
       "34            Turkey\n",
       "dtype: object"
      ]
     },
     "execution_count": 11,
     "metadata": {},
     "output_type": "execute_result"
    }
   ],
   "source": [
    "namesSeries.where(filterAbovbeMean2010 & filterAbovbeMean2012).dropna()"
   ]
  },
  {
   "cell_type": "code",
   "execution_count": 12,
   "id": "a8799bba",
   "metadata": {},
   "outputs": [],
   "source": [
    "filterBelowMean2010 = energy2010Series <= mean2010"
   ]
  },
  {
   "cell_type": "code",
   "execution_count": 13,
   "id": "9ee54fb8",
   "metadata": {},
   "outputs": [
    {
     "data": {
      "text/plain": [
       "Series([], dtype: object)"
      ]
     },
     "execution_count": 13,
     "metadata": {},
     "output_type": "execute_result"
    }
   ],
   "source": [
    "namesSeries.where(filterBelowMean2010 & filterAbovbeMean2012).dropna()"
   ]
  },
  {
   "cell_type": "code",
   "execution_count": null,
   "id": "c9020422",
   "metadata": {},
   "outputs": [],
   "source": []
  }
 ],
 "metadata": {
  "kernelspec": {
   "display_name": "Python 3 (ipykernel)",
   "language": "python",
   "name": "python3"
  },
  "language_info": {
   "codemirror_mode": {
    "name": "ipython",
    "version": 3
   },
   "file_extension": ".py",
   "mimetype": "text/x-python",
   "name": "python",
   "nbconvert_exporter": "python",
   "pygments_lexer": "ipython3",
   "version": "3.9.16"
  }
 },
 "nbformat": 4,
 "nbformat_minor": 5
}
