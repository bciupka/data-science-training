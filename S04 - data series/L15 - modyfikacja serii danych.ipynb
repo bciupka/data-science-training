{
 "cells": [
  {
   "cell_type": "markdown",
   "id": "9fe1b26c",
   "metadata": {},
   "source": [
    "Jeżeli wartości to int to można np. ds * 100\n",
    "\n",
    "Przy str to np. ds.str.upper()\n",
    "\n",
    "^^czyli +- dla metod klasowych dodać klasę\n",
    "\n",
    "aplikacja funkcji dla kolehnych rekordów ds.apply(funkcja bez ())\n",
    "\n",
    "**warto używać lambdy**"
   ]
  },
  {
   "cell_type": "code",
   "execution_count": 1,
   "id": "489ab45a",
   "metadata": {},
   "outputs": [],
   "source": [
    "import pandas as pd\n",
    "import numpy as np\n",
    "import matplotlib.pyplot as plt\n",
    "import math\n",
    "\n",
    "%matplotlib inline"
   ]
  },
  {
   "cell_type": "code",
   "execution_count": 4,
   "id": "c121f7c8",
   "metadata": {},
   "outputs": [
    {
     "data": {
      "text/plain": [
       "2     113750.0\n",
       "14    100000.0\n",
       "17    130000.0\n",
       "18     82500.0\n",
       "22    100764.0\n",
       "Name: Salary, dtype: float64"
      ]
     },
     "execution_count": 4,
     "metadata": {},
     "output_type": "execute_result"
    }
   ],
   "source": [
    "surveys = pd.read_csv(r\"..\\course-files\\StackOverflowDeveloperSurvey.csv\", usecols=[\"Salary\"]).dropna().squeeze()\n",
    "surveys.head()"
   ]
  },
  {
   "cell_type": "code",
   "execution_count": 3,
   "id": "df361bbe",
   "metadata": {},
   "outputs": [
    {
     "data": {
      "text/plain": [
       "12891"
      ]
     },
     "execution_count": 3,
     "metadata": {},
     "output_type": "execute_result"
    }
   ],
   "source": [
    "surveys.count()"
   ]
  },
  {
   "cell_type": "code",
   "execution_count": 7,
   "id": "a7ba4949",
   "metadata": {},
   "outputs": [],
   "source": [
    "surveysIncrease = surveys * 0.03"
   ]
  },
  {
   "cell_type": "code",
   "execution_count": 8,
   "id": "c7ad9521",
   "metadata": {},
   "outputs": [
    {
     "data": {
      "text/plain": [
       "2     117162.50\n",
       "14    103000.00\n",
       "17    133900.00\n",
       "18     84975.00\n",
       "22    103786.92\n",
       "Name: Salary, dtype: float64"
      ]
     },
     "execution_count": 8,
     "metadata": {},
     "output_type": "execute_result"
    }
   ],
   "source": [
    "surveysAfterIncrease = surveys + surveysIncrease\n",
    "surveysAfterIncrease.head()"
   ]
  },
  {
   "cell_type": "code",
   "execution_count": 9,
   "id": "44b85ac3",
   "metadata": {},
   "outputs": [],
   "source": [
    "surveysTime = pd.read_csv(r\"..\\course-files\\StackOverflowDeveloperSurvey2018.csv\", usecols=[\"HoursOutside\"], low_memory=False).dropna().squeeze()"
   ]
  },
  {
   "cell_type": "code",
   "execution_count": 10,
   "id": "7c6f2ea8",
   "metadata": {},
   "outputs": [
    {
     "data": {
      "text/plain": [
       "1 - 2 hours             27788\n",
       "30 - 59 minutes         24002\n",
       "Less than 30 minutes    11223\n",
       "3 - 4 hours              7186\n",
       "Over 4 hours             1825\n",
       "Name: HoursOutside, dtype: int64"
      ]
     },
     "execution_count": 10,
     "metadata": {},
     "output_type": "execute_result"
    }
   ],
   "source": [
    "surveysTime.value_counts()"
   ]
  },
  {
   "cell_type": "code",
   "execution_count": 13,
   "id": "4a8f079f",
   "metadata": {},
   "outputs": [],
   "source": [
    "surveysTime = surveysTime.str.lower()"
   ]
  },
  {
   "cell_type": "code",
   "execution_count": 14,
   "id": "8e4b7220",
   "metadata": {},
   "outputs": [
    {
     "data": {
      "text/plain": [
       "0             1 - 2 hours\n",
       "1         30 - 59 minutes\n",
       "3    less than 30 minutes\n",
       "4             1 - 2 hours\n",
       "5         30 - 59 minutes\n",
       "Name: HoursOutside, dtype: object"
      ]
     },
     "execution_count": 14,
     "metadata": {},
     "output_type": "execute_result"
    }
   ],
   "source": [
    "surveysTime.head()"
   ]
  },
  {
   "cell_type": "code",
   "execution_count": 15,
   "id": "b5b4b528",
   "metadata": {},
   "outputs": [],
   "source": [
    "surveysTime = surveysTime.apply(lambda x: x.upper())"
   ]
  },
  {
   "cell_type": "code",
   "execution_count": 16,
   "id": "d704c3b2",
   "metadata": {},
   "outputs": [
    {
     "data": {
      "text/plain": [
       "0             1 - 2 HOURS\n",
       "1         30 - 59 MINUTES\n",
       "3    LESS THAN 30 MINUTES\n",
       "4             1 - 2 HOURS\n",
       "5         30 - 59 MINUTES\n",
       "Name: HoursOutside, dtype: object"
      ]
     },
     "execution_count": 16,
     "metadata": {},
     "output_type": "execute_result"
    }
   ],
   "source": [
    "surveysTime.head()"
   ]
  },
  {
   "cell_type": "code",
   "execution_count": 17,
   "id": "07f5dead",
   "metadata": {},
   "outputs": [],
   "source": [
    "def halfHour(string):\n",
    "    if string == \"LESS THAN 30 MINUTES\":\n",
    "        return \"LESS THAN HALF AN HOUR\"\n",
    "    else:\n",
    "        return string"
   ]
  },
  {
   "cell_type": "code",
   "execution_count": 20,
   "id": "29e19b8b",
   "metadata": {},
   "outputs": [
    {
     "data": {
      "text/plain": [
       "'bleble'"
      ]
     },
     "execution_count": 20,
     "metadata": {},
     "output_type": "execute_result"
    }
   ],
   "source": [
    "halfHour(\"bleble\")"
   ]
  },
  {
   "cell_type": "code",
   "execution_count": 21,
   "id": "8fe92d11",
   "metadata": {},
   "outputs": [
    {
     "data": {
      "text/plain": [
       "'LESS THAN HALF AN HOUR'"
      ]
     },
     "execution_count": 21,
     "metadata": {},
     "output_type": "execute_result"
    }
   ],
   "source": [
    "halfHour(\"LESS THAN 30 MINUTES\")"
   ]
  },
  {
   "cell_type": "code",
   "execution_count": 22,
   "id": "f4b4f979",
   "metadata": {},
   "outputs": [],
   "source": [
    "surveysTime = surveysTime.apply(lambda x: halfHour(x))"
   ]
  },
  {
   "cell_type": "code",
   "execution_count": 23,
   "id": "c5b86710",
   "metadata": {},
   "outputs": [
    {
     "data": {
      "text/plain": [
       "1 - 2 HOURS               27788\n",
       "30 - 59 MINUTES           24002\n",
       "LESS THAN HALF AN HOUR    11223\n",
       "3 - 4 HOURS                7186\n",
       "OVER 4 HOURS               1825\n",
       "Name: HoursOutside, dtype: int64"
      ]
     },
     "execution_count": 23,
     "metadata": {},
     "output_type": "execute_result"
    }
   ],
   "source": [
    "surveysTime.value_counts()"
   ]
  },
  {
   "cell_type": "code",
   "execution_count": null,
   "id": "ecba584d",
   "metadata": {},
   "outputs": [],
   "source": []
  }
 ],
 "metadata": {
  "kernelspec": {
   "display_name": "Python 3 (ipykernel)",
   "language": "python",
   "name": "python3"
  },
  "language_info": {
   "codemirror_mode": {
    "name": "ipython",
    "version": 3
   },
   "file_extension": ".py",
   "mimetype": "text/x-python",
   "name": "python",
   "nbconvert_exporter": "python",
   "pygments_lexer": "ipython3",
   "version": "3.9.16"
  }
 },
 "nbformat": 4,
 "nbformat_minor": 5
}
