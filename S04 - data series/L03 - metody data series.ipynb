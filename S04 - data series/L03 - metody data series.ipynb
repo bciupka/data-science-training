{
 "cells": [
  {
   "cell_type": "code",
   "execution_count": 1,
   "id": "a7dc1cea",
   "metadata": {},
   "outputs": [],
   "source": [
    "import pandas as pd\n",
    "import numpy as np\n",
    "import matplotlib.pyplot as plt\n",
    "import math"
   ]
  },
  {
   "cell_type": "code",
   "execution_count": 2,
   "id": "02dbc05f",
   "metadata": {},
   "outputs": [],
   "source": [
    "%matplotlib inline"
   ]
  },
  {
   "cell_type": "code",
   "execution_count": 3,
   "id": "531060ea",
   "metadata": {},
   "outputs": [],
   "source": [
    "cities = [\"Shanghai\", \"Beijing\", \"Istanbul\"]\n",
    "population = [24183300, 20794100, 15030000]"
   ]
  },
  {
   "cell_type": "code",
   "execution_count": 4,
   "id": "bdfc7dd0",
   "metadata": {},
   "outputs": [
    {
     "data": {
      "text/plain": [
       "Shanghai    24183300\n",
       "Beijing     20794100\n",
       "Istanbul    15030000\n",
       "dtype: int64"
      ]
     },
     "execution_count": 4,
     "metadata": {},
     "output_type": "execute_result"
    }
   ],
   "source": [
    "citypop = pd.Series(population, cities)\n",
    "citypop"
   ]
  },
  {
   "cell_type": "code",
   "execution_count": 5,
   "id": "b4e9cb8e",
   "metadata": {},
   "outputs": [
    {
     "data": {
      "text/plain": [
       "Shanghai    24183300\n",
       "Beijing     20794100\n",
       "Istanbul    15030000\n",
       "dtype: int64"
      ]
     },
     "execution_count": 5,
     "metadata": {},
     "output_type": "execute_result"
    }
   ],
   "source": [
    "citypop = pd.Series(data=population, index=cities)\n",
    "citypop"
   ]
  },
  {
   "cell_type": "code",
   "execution_count": 8,
   "id": "de50101d",
   "metadata": {},
   "outputs": [
    {
     "data": {
      "text/plain": [
       "60007400"
      ]
     },
     "execution_count": 8,
     "metadata": {},
     "output_type": "execute_result"
    }
   ],
   "source": [
    "citypop.sum()"
   ]
  },
  {
   "cell_type": "code",
   "execution_count": 9,
   "id": "a89f1f73",
   "metadata": {},
   "outputs": [
    {
     "data": {
      "text/plain": [
       "20002466.666666668"
      ]
     },
     "execution_count": 9,
     "metadata": {},
     "output_type": "execute_result"
    }
   ],
   "source": [
    "citypop.mean()"
   ]
  },
  {
   "cell_type": "code",
   "execution_count": 10,
   "id": "b33f7752",
   "metadata": {},
   "outputs": [
    {
     "data": {
      "text/plain": [
       "Index(['Shanghai', 'Beijing', 'Istanbul'], dtype='object')"
      ]
     },
     "execution_count": 10,
     "metadata": {},
     "output_type": "execute_result"
    }
   ],
   "source": [
    "citypop.index"
   ]
  },
  {
   "cell_type": "code",
   "execution_count": 12,
   "id": "ce34b676",
   "metadata": {},
   "outputs": [
    {
     "data": {
      "text/plain": [
       "Index(['Shanghai', 'Beijing', 'Istanbul'], dtype='object')"
      ]
     },
     "execution_count": 12,
     "metadata": {},
     "output_type": "execute_result"
    }
   ],
   "source": [
    "citypop.keys()"
   ]
  },
  {
   "cell_type": "code",
   "execution_count": 15,
   "id": "1a6c9f54",
   "metadata": {},
   "outputs": [
    {
     "data": {
      "text/plain": [
       "array([24183300, 20794100, 15030000], dtype=int64)"
      ]
     },
     "execution_count": 15,
     "metadata": {},
     "output_type": "execute_result"
    }
   ],
   "source": [
    "citypop.values"
   ]
  },
  {
   "cell_type": "code",
   "execution_count": null,
   "id": "5c3a4a4d",
   "metadata": {},
   "outputs": [],
   "source": []
  }
 ],
 "metadata": {
  "kernelspec": {
   "display_name": "Python 3 (ipykernel)",
   "language": "python",
   "name": "python3"
  },
  "language_info": {
   "codemirror_mode": {
    "name": "ipython",
    "version": 3
   },
   "file_extension": ".py",
   "mimetype": "text/x-python",
   "name": "python",
   "nbconvert_exporter": "python",
   "pygments_lexer": "ipython3",
   "version": "3.9.16"
  }
 },
 "nbformat": 4,
 "nbformat_minor": 5
}
