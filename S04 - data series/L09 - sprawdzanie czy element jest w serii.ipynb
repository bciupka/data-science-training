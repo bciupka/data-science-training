{
 "cells": [
  {
   "cell_type": "markdown",
   "id": "28351fdb",
   "metadata": {},
   "source": [
    "in działa tylko na index w Data Series\n",
    "\n",
    "in series.values działa"
   ]
  },
  {
   "cell_type": "code",
   "execution_count": 1,
   "id": "dc480b1f",
   "metadata": {},
   "outputs": [],
   "source": [
    "import pandas as pd\n",
    "import numpy as np\n",
    "import matplotlib.pyplot as plt\n",
    "import math\n",
    "\n",
    "%matplotlib inline"
   ]
  },
  {
   "cell_type": "code",
   "execution_count": 6,
   "id": "b77776a3",
   "metadata": {},
   "outputs": [],
   "source": [
    "countries = pd.read_csv(\"..\\course-files\\StackOverflowDeveloperSurvey.csv\", usecols=[\"Country\"]).squeeze().dropna()"
   ]
  },
  {
   "cell_type": "code",
   "execution_count": 7,
   "id": "c736dcb1",
   "metadata": {},
   "outputs": [
    {
     "data": {
      "text/plain": [
       "0     United States\n",
       "1    United Kingdom\n",
       "2    United Kingdom\n",
       "3     United States\n",
       "4       Switzerland\n",
       "Name: Country, dtype: object"
      ]
     },
     "execution_count": 7,
     "metadata": {},
     "output_type": "execute_result"
    }
   ],
   "source": [
    "countries.head()"
   ]
  },
  {
   "cell_type": "code",
   "execution_count": 8,
   "id": "2cc4ca16",
   "metadata": {},
   "outputs": [
    {
     "data": {
      "text/plain": [
       "False"
      ]
     },
     "execution_count": 8,
     "metadata": {},
     "output_type": "execute_result"
    }
   ],
   "source": [
    "\"Spanin\" in countries"
   ]
  },
  {
   "cell_type": "code",
   "execution_count": 9,
   "id": "0ed25b54",
   "metadata": {},
   "outputs": [
    {
     "data": {
      "text/plain": [
       "True"
      ]
     },
     "execution_count": 9,
     "metadata": {},
     "output_type": "execute_result"
    }
   ],
   "source": [
    "\"Spain\" in countries.values"
   ]
  },
  {
   "cell_type": "code",
   "execution_count": 10,
   "id": "b37fc529",
   "metadata": {},
   "outputs": [
    {
     "data": {
      "text/plain": [
       "False"
      ]
     },
     "execution_count": 10,
     "metadata": {},
     "output_type": "execute_result"
    }
   ],
   "source": [
    "\"Wonderland\" in countries.values"
   ]
  },
  {
   "cell_type": "code",
   "execution_count": null,
   "id": "576e47b6",
   "metadata": {},
   "outputs": [],
   "source": []
  }
 ],
 "metadata": {
  "kernelspec": {
   "display_name": "Python 3 (ipykernel)",
   "language": "python",
   "name": "python3"
  },
  "language_info": {
   "codemirror_mode": {
    "name": "ipython",
    "version": 3
   },
   "file_extension": ".py",
   "mimetype": "text/x-python",
   "name": "python",
   "nbconvert_exporter": "python",
   "pygments_lexer": "ipython3",
   "version": "3.9.16"
  }
 },
 "nbformat": 4,
 "nbformat_minor": 5
}
