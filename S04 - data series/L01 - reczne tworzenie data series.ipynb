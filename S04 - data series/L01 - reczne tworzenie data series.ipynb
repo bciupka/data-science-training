{
 "cells": [
  {
   "cell_type": "code",
   "execution_count": 7,
   "id": "8858f0c6",
   "metadata": {},
   "outputs": [],
   "source": [
    "import pandas as pd\n",
    "import numpy as np\n",
    "import matplotlib.pyplot as plt\n",
    "import math"
   ]
  },
  {
   "cell_type": "code",
   "execution_count": 8,
   "id": "03dc10a9",
   "metadata": {},
   "outputs": [],
   "source": [
    "%matplotlib inline"
   ]
  },
  {
   "cell_type": "code",
   "execution_count": 9,
   "id": "eeaa5f72",
   "metadata": {},
   "outputs": [],
   "source": [
    "weekdays = [\"Monday\", \"Tuesday\", \"Wednesday\", \"Thusrday\", \"Friday\", \"Saturday\", \"Sunday\"]\n",
    "freeDays = [False, False, False, False, False, True, True]"
   ]
  },
  {
   "cell_type": "code",
   "execution_count": 10,
   "id": "5ba30158",
   "metadata": {},
   "outputs": [
    {
     "data": {
      "text/plain": [
       "0    False\n",
       "1    False\n",
       "2    False\n",
       "3    False\n",
       "4    False\n",
       "5     True\n",
       "6     True\n",
       "dtype: bool"
      ]
     },
     "execution_count": 10,
     "metadata": {},
     "output_type": "execute_result"
    }
   ],
   "source": [
    "freeDaysSeries = pd.Series(freeDays)\n",
    "freeDaysSeries"
   ]
  },
  {
   "cell_type": "code",
   "execution_count": 11,
   "id": "bc70182c",
   "metadata": {},
   "outputs": [],
   "source": [
    "holidays = {\"New Year\":\"2018-01-01\", \"Epiphany\":\"2018-01-06\", \"Easter\":\"2018-04-01\"}"
   ]
  },
  {
   "cell_type": "code",
   "execution_count": 13,
   "id": "71e97345",
   "metadata": {},
   "outputs": [
    {
     "data": {
      "text/plain": [
       "New Year    2018-01-01\n",
       "Epiphany    2018-01-06\n",
       "Easter      2018-04-01\n",
       "dtype: object"
      ]
     },
     "execution_count": 13,
     "metadata": {},
     "output_type": "execute_result"
    }
   ],
   "source": [
    "holidaysSeries = pd.Series(holidays)\n",
    "holidaysSeries"
   ]
  },
  {
   "cell_type": "code",
   "execution_count": null,
   "id": "d3f9f6d9",
   "metadata": {},
   "outputs": [],
   "source": []
  }
 ],
 "metadata": {
  "kernelspec": {
   "display_name": "Python 3 (ipykernel)",
   "language": "python",
   "name": "python3"
  },
  "language_info": {
   "codemirror_mode": {
    "name": "ipython",
    "version": 3
   },
   "file_extension": ".py",
   "mimetype": "text/x-python",
   "name": "python",
   "nbconvert_exporter": "python",
   "pygments_lexer": "ipython3",
   "version": "3.9.16"
  }
 },
 "nbformat": 4,
 "nbformat_minor": 5
}
