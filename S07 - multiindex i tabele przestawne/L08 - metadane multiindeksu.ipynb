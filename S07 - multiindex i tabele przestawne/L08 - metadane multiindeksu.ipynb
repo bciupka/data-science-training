{
 "cells": [
  {
   "cell_type": "markdown",
   "id": "44c4c4d6",
   "metadata": {},
   "source": [
    "df.index - obiekt index\n",
    "\n",
    "df.index (df ma multiindex) - obiekt multiindex\n",
    "\n",
    "Zbudowany jest z levels i labels\n",
    "\n",
    "Levels - lista list. kazda lista wewnętrzna to index\n",
    "\n",
    "labels - listy (ilość list taka jak w levels) odpowiadające kolejności leveli w tabeli. Labels posługuje się nr w listach z levels a nie nazwami indexów.\n",
    "\n",
    "names - nazwy kolumn indexowych\n",
    "\n",
    "df.index.get_level_values(x) - wyświetla obiekt index dla konkretnego poziomu multiindexu (x)\n",
    "\n",
    "df.index.names - otrzymujemy nazwy indexów\n",
    "\n",
    "df.index.set_names([]) - zmienia nazwy indexów\n",
    "\n",
    "**aktualnie w pandas wyświetla tuple** - wszytsko w jednej liście"
   ]
  },
  {
   "cell_type": "code",
   "execution_count": 1,
   "id": "d5843902",
   "metadata": {},
   "outputs": [],
   "source": [
    "import pandas as pd\n",
    "import numpy as np\n",
    "import matplotlib.pyplot as plt\n",
    "import math\n",
    "\n",
    "%matplotlib inline"
   ]
  },
  {
   "cell_type": "code",
   "execution_count": 2,
   "id": "1f363fc1",
   "metadata": {},
   "outputs": [
    {
     "data": {
      "text/html": [
       "<div>\n",
       "<style scoped>\n",
       "    .dataframe tbody tr th:only-of-type {\n",
       "        vertical-align: middle;\n",
       "    }\n",
       "\n",
       "    .dataframe tbody tr th {\n",
       "        vertical-align: top;\n",
       "    }\n",
       "\n",
       "    .dataframe thead th {\n",
       "        text-align: right;\n",
       "    }\n",
       "</style>\n",
       "<table border=\"1\" class=\"dataframe\">\n",
       "  <thead>\n",
       "    <tr style=\"text-align: right;\">\n",
       "      <th></th>\n",
       "      <th>Activity Period</th>\n",
       "      <th>Operating Airline</th>\n",
       "      <th>Operating Airline IATA Code</th>\n",
       "      <th>Published Airline</th>\n",
       "      <th>Published Airline IATA Code</th>\n",
       "      <th>GEO Summary</th>\n",
       "      <th>GEO Region</th>\n",
       "      <th>Activity Type Code</th>\n",
       "      <th>Price Category Code</th>\n",
       "      <th>Terminal</th>\n",
       "      <th>Boarding Area</th>\n",
       "      <th>Passenger Count</th>\n",
       "    </tr>\n",
       "  </thead>\n",
       "  <tbody>\n",
       "    <tr>\n",
       "      <th>0</th>\n",
       "      <td>200507</td>\n",
       "      <td>ATA Airlines</td>\n",
       "      <td>TZ</td>\n",
       "      <td>ATA Airlines</td>\n",
       "      <td>TZ</td>\n",
       "      <td>Domestic</td>\n",
       "      <td>US</td>\n",
       "      <td>Deplaned</td>\n",
       "      <td>Low Fare</td>\n",
       "      <td>Terminal 1</td>\n",
       "      <td>B</td>\n",
       "      <td>27271</td>\n",
       "    </tr>\n",
       "    <tr>\n",
       "      <th>1</th>\n",
       "      <td>200507</td>\n",
       "      <td>ATA Airlines</td>\n",
       "      <td>TZ</td>\n",
       "      <td>ATA Airlines</td>\n",
       "      <td>TZ</td>\n",
       "      <td>Domestic</td>\n",
       "      <td>US</td>\n",
       "      <td>Enplaned</td>\n",
       "      <td>Low Fare</td>\n",
       "      <td>Terminal 1</td>\n",
       "      <td>B</td>\n",
       "      <td>29131</td>\n",
       "    </tr>\n",
       "    <tr>\n",
       "      <th>2</th>\n",
       "      <td>200507</td>\n",
       "      <td>ATA Airlines</td>\n",
       "      <td>TZ</td>\n",
       "      <td>ATA Airlines</td>\n",
       "      <td>TZ</td>\n",
       "      <td>Domestic</td>\n",
       "      <td>US</td>\n",
       "      <td>Thru / Transit</td>\n",
       "      <td>Low Fare</td>\n",
       "      <td>Terminal 1</td>\n",
       "      <td>B</td>\n",
       "      <td>5415</td>\n",
       "    </tr>\n",
       "    <tr>\n",
       "      <th>3</th>\n",
       "      <td>200507</td>\n",
       "      <td>Air Canada</td>\n",
       "      <td>AC</td>\n",
       "      <td>Air Canada</td>\n",
       "      <td>AC</td>\n",
       "      <td>International</td>\n",
       "      <td>Canada</td>\n",
       "      <td>Deplaned</td>\n",
       "      <td>Other</td>\n",
       "      <td>Terminal 1</td>\n",
       "      <td>B</td>\n",
       "      <td>35156</td>\n",
       "    </tr>\n",
       "    <tr>\n",
       "      <th>4</th>\n",
       "      <td>200507</td>\n",
       "      <td>Air Canada</td>\n",
       "      <td>AC</td>\n",
       "      <td>Air Canada</td>\n",
       "      <td>AC</td>\n",
       "      <td>International</td>\n",
       "      <td>Canada</td>\n",
       "      <td>Enplaned</td>\n",
       "      <td>Other</td>\n",
       "      <td>Terminal 1</td>\n",
       "      <td>B</td>\n",
       "      <td>34090</td>\n",
       "    </tr>\n",
       "  </tbody>\n",
       "</table>\n",
       "</div>"
      ],
      "text/plain": [
       "   Activity Period Operating Airline Operating Airline IATA Code   \n",
       "0           200507      ATA Airlines                          TZ  \\\n",
       "1           200507      ATA Airlines                          TZ   \n",
       "2           200507      ATA Airlines                          TZ   \n",
       "3           200507        Air Canada                          AC   \n",
       "4           200507        Air Canada                          AC   \n",
       "\n",
       "  Published Airline Published Airline IATA Code    GEO Summary GEO Region   \n",
       "0      ATA Airlines                          TZ       Domestic         US  \\\n",
       "1      ATA Airlines                          TZ       Domestic         US   \n",
       "2      ATA Airlines                          TZ       Domestic         US   \n",
       "3        Air Canada                          AC  International     Canada   \n",
       "4        Air Canada                          AC  International     Canada   \n",
       "\n",
       "  Activity Type Code Price Category Code    Terminal Boarding Area   \n",
       "0           Deplaned            Low Fare  Terminal 1             B  \\\n",
       "1           Enplaned            Low Fare  Terminal 1             B   \n",
       "2     Thru / Transit            Low Fare  Terminal 1             B   \n",
       "3           Deplaned               Other  Terminal 1             B   \n",
       "4           Enplaned               Other  Terminal 1             B   \n",
       "\n",
       "   Passenger Count  \n",
       "0            27271  \n",
       "1            29131  \n",
       "2             5415  \n",
       "3            35156  \n",
       "4            34090  "
      ]
     },
     "execution_count": 2,
     "metadata": {},
     "output_type": "execute_result"
    }
   ],
   "source": [
    "air = pd.read_csv(r\"..\\course-files\\Air_Traffic_passenger_statistics.csv\")\n",
    "air.head()"
   ]
  },
  {
   "cell_type": "code",
   "execution_count": 3,
   "id": "dae489e6",
   "metadata": {},
   "outputs": [
    {
     "data": {
      "text/plain": [
       "RangeIndex(start=0, stop=18398, step=1)"
      ]
     },
     "execution_count": 3,
     "metadata": {},
     "output_type": "execute_result"
    }
   ],
   "source": [
    "air.index"
   ]
  },
  {
   "cell_type": "code",
   "execution_count": 5,
   "id": "78f12578",
   "metadata": {},
   "outputs": [],
   "source": [
    "air.set_index(['Operating Airline', 'Activity Period'], inplace=True)"
   ]
  },
  {
   "cell_type": "code",
   "execution_count": 6,
   "id": "cc150003",
   "metadata": {},
   "outputs": [
    {
     "data": {
      "text/plain": [
       "MultiIndex([(    'ATA Airlines', 200507),\n",
       "            (    'ATA Airlines', 200507),\n",
       "            (    'ATA Airlines', 200507),\n",
       "            (      'Air Canada', 200507),\n",
       "            (      'Air Canada', 200507),\n",
       "            (       'Air China', 200507),\n",
       "            (       'Air China', 200507),\n",
       "            (      'Air France', 200507),\n",
       "            (      'Air France', 200507),\n",
       "            ( 'Air New Zealand', 200507),\n",
       "            ...\n",
       "            (  'Virgin America', 201803),\n",
       "            (  'Virgin America', 201803),\n",
       "            (  'Virgin America', 201803),\n",
       "            ( 'Virgin Atlantic', 201803),\n",
       "            ( 'Virgin Atlantic', 201803),\n",
       "            ('Volaris Airlines', 201803),\n",
       "            ('Volaris Airlines', 201803),\n",
       "            (         'WOW Air', 201803),\n",
       "            (         'WOW Air', 201803),\n",
       "            (         'WOW Air', 201803)],\n",
       "           names=['Operating Airline', 'Activity Period'], length=18398)"
      ]
     },
     "execution_count": 6,
     "metadata": {},
     "output_type": "execute_result"
    }
   ],
   "source": [
    "air.index"
   ]
  },
  {
   "cell_type": "code",
   "execution_count": 7,
   "id": "6cc1197f",
   "metadata": {},
   "outputs": [
    {
     "data": {
      "text/plain": [
       "Index(['ATA Airlines', 'ATA Airlines', 'ATA Airlines', 'Air Canada',\n",
       "       'Air Canada', 'Air China', 'Air China', 'Air France', 'Air France',\n",
       "       'Air New Zealand',\n",
       "       ...\n",
       "       'Virgin America', 'Virgin America', 'Virgin America', 'Virgin Atlantic',\n",
       "       'Virgin Atlantic', 'Volaris Airlines', 'Volaris Airlines', 'WOW Air',\n",
       "       'WOW Air', 'WOW Air'],\n",
       "      dtype='object', name='Operating Airline', length=18398)"
      ]
     },
     "execution_count": 7,
     "metadata": {},
     "output_type": "execute_result"
    }
   ],
   "source": [
    "air.index.get_level_values(0)"
   ]
  },
  {
   "cell_type": "code",
   "execution_count": 8,
   "id": "68d5d4c7",
   "metadata": {},
   "outputs": [
    {
     "data": {
      "text/plain": [
       "Index([200507, 200507, 200507, 200507, 200507, 200507, 200507, 200507, 200507,\n",
       "       200507,\n",
       "       ...\n",
       "       201803, 201803, 201803, 201803, 201803, 201803, 201803, 201803, 201803,\n",
       "       201803],\n",
       "      dtype='int64', name='Activity Period', length=18398)"
      ]
     },
     "execution_count": 8,
     "metadata": {},
     "output_type": "execute_result"
    }
   ],
   "source": [
    "air.index.get_level_values(1)"
   ]
  },
  {
   "cell_type": "code",
   "execution_count": 9,
   "id": "86f0fcf1",
   "metadata": {},
   "outputs": [
    {
     "data": {
      "text/plain": [
       "FrozenList(['Operating Airline', 'Activity Period'])"
      ]
     },
     "execution_count": 9,
     "metadata": {},
     "output_type": "execute_result"
    }
   ],
   "source": [
    "air.index.names"
   ]
  },
  {
   "cell_type": "code",
   "execution_count": 10,
   "id": "1eaa801a",
   "metadata": {},
   "outputs": [],
   "source": [
    "air.reset_index(inplace=True)"
   ]
  },
  {
   "cell_type": "code",
   "execution_count": 11,
   "id": "76f2ad98",
   "metadata": {},
   "outputs": [
    {
     "data": {
      "text/html": [
       "<div>\n",
       "<style scoped>\n",
       "    .dataframe tbody tr th:only-of-type {\n",
       "        vertical-align: middle;\n",
       "    }\n",
       "\n",
       "    .dataframe tbody tr th {\n",
       "        vertical-align: top;\n",
       "    }\n",
       "\n",
       "    .dataframe thead th {\n",
       "        text-align: right;\n",
       "    }\n",
       "</style>\n",
       "<table border=\"1\" class=\"dataframe\">\n",
       "  <thead>\n",
       "    <tr style=\"text-align: right;\">\n",
       "      <th></th>\n",
       "      <th></th>\n",
       "      <th>Operating Airline IATA Code</th>\n",
       "      <th>Published Airline</th>\n",
       "      <th>Published Airline IATA Code</th>\n",
       "      <th>GEO Summary</th>\n",
       "      <th>GEO Region</th>\n",
       "      <th>Activity Type Code</th>\n",
       "      <th>Price Category Code</th>\n",
       "      <th>Terminal</th>\n",
       "      <th>Boarding Area</th>\n",
       "      <th>Passenger Count</th>\n",
       "    </tr>\n",
       "    <tr>\n",
       "      <th>Activity Period</th>\n",
       "      <th>Operating Airline</th>\n",
       "      <th></th>\n",
       "      <th></th>\n",
       "      <th></th>\n",
       "      <th></th>\n",
       "      <th></th>\n",
       "      <th></th>\n",
       "      <th></th>\n",
       "      <th></th>\n",
       "      <th></th>\n",
       "      <th></th>\n",
       "    </tr>\n",
       "  </thead>\n",
       "  <tbody>\n",
       "    <tr>\n",
       "      <th rowspan=\"5\" valign=\"top\">200507</th>\n",
       "      <th>ATA Airlines</th>\n",
       "      <td>TZ</td>\n",
       "      <td>ATA Airlines</td>\n",
       "      <td>TZ</td>\n",
       "      <td>Domestic</td>\n",
       "      <td>US</td>\n",
       "      <td>Deplaned</td>\n",
       "      <td>Low Fare</td>\n",
       "      <td>Terminal 1</td>\n",
       "      <td>B</td>\n",
       "      <td>27271</td>\n",
       "    </tr>\n",
       "    <tr>\n",
       "      <th>ATA Airlines</th>\n",
       "      <td>TZ</td>\n",
       "      <td>ATA Airlines</td>\n",
       "      <td>TZ</td>\n",
       "      <td>Domestic</td>\n",
       "      <td>US</td>\n",
       "      <td>Enplaned</td>\n",
       "      <td>Low Fare</td>\n",
       "      <td>Terminal 1</td>\n",
       "      <td>B</td>\n",
       "      <td>29131</td>\n",
       "    </tr>\n",
       "    <tr>\n",
       "      <th>ATA Airlines</th>\n",
       "      <td>TZ</td>\n",
       "      <td>ATA Airlines</td>\n",
       "      <td>TZ</td>\n",
       "      <td>Domestic</td>\n",
       "      <td>US</td>\n",
       "      <td>Thru / Transit</td>\n",
       "      <td>Low Fare</td>\n",
       "      <td>Terminal 1</td>\n",
       "      <td>B</td>\n",
       "      <td>5415</td>\n",
       "    </tr>\n",
       "    <tr>\n",
       "      <th>Air Canada</th>\n",
       "      <td>AC</td>\n",
       "      <td>Air Canada</td>\n",
       "      <td>AC</td>\n",
       "      <td>International</td>\n",
       "      <td>Canada</td>\n",
       "      <td>Deplaned</td>\n",
       "      <td>Other</td>\n",
       "      <td>Terminal 1</td>\n",
       "      <td>B</td>\n",
       "      <td>35156</td>\n",
       "    </tr>\n",
       "    <tr>\n",
       "      <th>Air Canada</th>\n",
       "      <td>AC</td>\n",
       "      <td>Air Canada</td>\n",
       "      <td>AC</td>\n",
       "      <td>International</td>\n",
       "      <td>Canada</td>\n",
       "      <td>Enplaned</td>\n",
       "      <td>Other</td>\n",
       "      <td>Terminal 1</td>\n",
       "      <td>B</td>\n",
       "      <td>34090</td>\n",
       "    </tr>\n",
       "  </tbody>\n",
       "</table>\n",
       "</div>"
      ],
      "text/plain": [
       "                                  Operating Airline IATA Code   \n",
       "Activity Period Operating Airline                               \n",
       "200507          ATA Airlines                               TZ  \\\n",
       "                ATA Airlines                               TZ   \n",
       "                ATA Airlines                               TZ   \n",
       "                Air Canada                                 AC   \n",
       "                Air Canada                                 AC   \n",
       "\n",
       "                                  Published Airline   \n",
       "Activity Period Operating Airline                     \n",
       "200507          ATA Airlines           ATA Airlines  \\\n",
       "                ATA Airlines           ATA Airlines   \n",
       "                ATA Airlines           ATA Airlines   \n",
       "                Air Canada               Air Canada   \n",
       "                Air Canada               Air Canada   \n",
       "\n",
       "                                  Published Airline IATA Code    GEO Summary   \n",
       "Activity Period Operating Airline                                              \n",
       "200507          ATA Airlines                               TZ       Domestic  \\\n",
       "                ATA Airlines                               TZ       Domestic   \n",
       "                ATA Airlines                               TZ       Domestic   \n",
       "                Air Canada                                 AC  International   \n",
       "                Air Canada                                 AC  International   \n",
       "\n",
       "                                  GEO Region Activity Type Code   \n",
       "Activity Period Operating Airline                                 \n",
       "200507          ATA Airlines              US           Deplaned  \\\n",
       "                ATA Airlines              US           Enplaned   \n",
       "                ATA Airlines              US     Thru / Transit   \n",
       "                Air Canada            Canada           Deplaned   \n",
       "                Air Canada            Canada           Enplaned   \n",
       "\n",
       "                                  Price Category Code    Terminal   \n",
       "Activity Period Operating Airline                                   \n",
       "200507          ATA Airlines                 Low Fare  Terminal 1  \\\n",
       "                ATA Airlines                 Low Fare  Terminal 1   \n",
       "                ATA Airlines                 Low Fare  Terminal 1   \n",
       "                Air Canada                      Other  Terminal 1   \n",
       "                Air Canada                      Other  Terminal 1   \n",
       "\n",
       "                                  Boarding Area  Passenger Count  \n",
       "Activity Period Operating Airline                                 \n",
       "200507          ATA Airlines                  B            27271  \n",
       "                ATA Airlines                  B            29131  \n",
       "                ATA Airlines                  B             5415  \n",
       "                Air Canada                    B            35156  \n",
       "                Air Canada                    B            34090  "
      ]
     },
     "execution_count": 11,
     "metadata": {},
     "output_type": "execute_result"
    }
   ],
   "source": [
    "air.set_index(['Activity Period', 'Operating Airline'], inplace=True)\n",
    "air.head()"
   ]
  },
  {
   "cell_type": "code",
   "execution_count": null,
   "id": "a69c4202",
   "metadata": {},
   "outputs": [],
   "source": []
  }
 ],
 "metadata": {
  "kernelspec": {
   "display_name": "Python 3 (ipykernel)",
   "language": "python",
   "name": "python3"
  },
  "language_info": {
   "codemirror_mode": {
    "name": "ipython",
    "version": 3
   },
   "file_extension": ".py",
   "mimetype": "text/x-python",
   "name": "python",
   "nbconvert_exporter": "python",
   "pygments_lexer": "ipython3",
   "version": "3.11.3"
  }
 },
 "nbformat": 4,
 "nbformat_minor": 5
}
