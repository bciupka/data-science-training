{
 "cells": [
  {
   "cell_type": "markdown",
   "id": "958e295f",
   "metadata": {},
   "source": [
    "df.transpose() - zamienia kolumny z wierszami\n",
    "\n",
    "df.loc[wiersz, (multikolumna)] - działa rewelacyjnie\n",
    "\n",
    "**Nie ma inplace - trzeba newdf = df.tanspose()**"
   ]
  },
  {
   "cell_type": "code",
   "execution_count": 1,
   "id": "0b6f5051",
   "metadata": {},
   "outputs": [],
   "source": [
    "import pandas as pd\n",
    "import numpy as np\n",
    "import matplotlib.pyplot as plt\n",
    "import math\n",
    "\n",
    "%matplotlib inline"
   ]
  },
  {
   "cell_type": "code",
   "execution_count": 2,
   "id": "c83b98aa",
   "metadata": {},
   "outputs": [
    {
     "data": {
      "text/html": [
       "<div>\n",
       "<style scoped>\n",
       "    .dataframe tbody tr th:only-of-type {\n",
       "        vertical-align: middle;\n",
       "    }\n",
       "\n",
       "    .dataframe tbody tr th {\n",
       "        vertical-align: top;\n",
       "    }\n",
       "\n",
       "    .dataframe thead th {\n",
       "        text-align: right;\n",
       "    }\n",
       "</style>\n",
       "<table border=\"1\" class=\"dataframe\">\n",
       "  <thead>\n",
       "    <tr style=\"text-align: right;\">\n",
       "      <th></th>\n",
       "      <th></th>\n",
       "      <th></th>\n",
       "      <th>Range (FT1)</th>\n",
       "      <th>City Range (FT1)</th>\n",
       "    </tr>\n",
       "    <tr>\n",
       "      <th>Year</th>\n",
       "      <th>Make</th>\n",
       "      <th>Model</th>\n",
       "      <th></th>\n",
       "      <th></th>\n",
       "    </tr>\n",
       "  </thead>\n",
       "  <tbody>\n",
       "    <tr>\n",
       "      <th rowspan=\"10\" valign=\"top\">1984</th>\n",
       "      <th rowspan=\"4\" valign=\"top\">AM General</th>\n",
       "      <th>DJ Po Vehicle 2WD</th>\n",
       "      <td>0.0</td>\n",
       "      <td>0.0</td>\n",
       "    </tr>\n",
       "    <tr>\n",
       "      <th>DJ Po Vehicle 2WD</th>\n",
       "      <td>0.0</td>\n",
       "      <td>0.0</td>\n",
       "    </tr>\n",
       "    <tr>\n",
       "      <th>FJ8c Post Office</th>\n",
       "      <td>0.0</td>\n",
       "      <td>0.0</td>\n",
       "    </tr>\n",
       "    <tr>\n",
       "      <th>FJ8c Post Office</th>\n",
       "      <td>0.0</td>\n",
       "      <td>0.0</td>\n",
       "    </tr>\n",
       "    <tr>\n",
       "      <th rowspan=\"4\" valign=\"top\">Alfa Romeo</th>\n",
       "      <th>GT V6 2.5</th>\n",
       "      <td>0.0</td>\n",
       "      <td>0.0</td>\n",
       "    </tr>\n",
       "    <tr>\n",
       "      <th>GT V6 2.5</th>\n",
       "      <td>0.0</td>\n",
       "      <td>0.0</td>\n",
       "    </tr>\n",
       "    <tr>\n",
       "      <th>Spider Veloce 2000</th>\n",
       "      <td>0.0</td>\n",
       "      <td>0.0</td>\n",
       "    </tr>\n",
       "    <tr>\n",
       "      <th>Spider Veloce 2000</th>\n",
       "      <td>0.0</td>\n",
       "      <td>0.0</td>\n",
       "    </tr>\n",
       "    <tr>\n",
       "      <th rowspan=\"2\" valign=\"top\">American Motors Corporation</th>\n",
       "      <th>Eagle 4WD</th>\n",
       "      <td>0.0</td>\n",
       "      <td>0.0</td>\n",
       "    </tr>\n",
       "    <tr>\n",
       "      <th>Eagle 4WD</th>\n",
       "      <td>0.0</td>\n",
       "      <td>0.0</td>\n",
       "    </tr>\n",
       "  </tbody>\n",
       "</table>\n",
       "</div>"
      ],
      "text/plain": [
       "                                                     Range (FT1)   \n",
       "Year Make                        Model                             \n",
       "1984 AM General                  DJ Po Vehicle 2WD           0.0  \\\n",
       "                                 DJ Po Vehicle 2WD           0.0   \n",
       "                                 FJ8c Post Office            0.0   \n",
       "                                 FJ8c Post Office            0.0   \n",
       "     Alfa Romeo                  GT V6 2.5                   0.0   \n",
       "                                 GT V6 2.5                   0.0   \n",
       "                                 Spider Veloce 2000          0.0   \n",
       "                                 Spider Veloce 2000          0.0   \n",
       "     American Motors Corporation Eagle 4WD                   0.0   \n",
       "                                 Eagle 4WD                   0.0   \n",
       "\n",
       "                                                     City Range (FT1)  \n",
       "Year Make                        Model                                 \n",
       "1984 AM General                  DJ Po Vehicle 2WD                0.0  \n",
       "                                 DJ Po Vehicle 2WD                0.0  \n",
       "                                 FJ8c Post Office                 0.0  \n",
       "                                 FJ8c Post Office                 0.0  \n",
       "     Alfa Romeo                  GT V6 2.5                        0.0  \n",
       "                                 GT V6 2.5                        0.0  \n",
       "                                 Spider Veloce 2000               0.0  \n",
       "                                 Spider Veloce 2000               0.0  \n",
       "     American Motors Corporation Eagle 4WD                        0.0  \n",
       "                                 Eagle 4WD                        0.0  "
      ]
     },
     "execution_count": 2,
     "metadata": {},
     "output_type": "execute_result"
    }
   ],
   "source": [
    "fuel = pd.read_csv(r\"..\\course-files\\fuel.csv\", usecols=['Year','Make','Model','Range (FT1)','City Range (FT1)'],\n",
    "                   index_col=['Year','Make','Model']).sort_index()\n",
    "fuel.head(10)"
   ]
  },
  {
   "cell_type": "code",
   "execution_count": 3,
   "id": "60034c53",
   "metadata": {
    "collapsed": true
   },
   "outputs": [
    {
     "data": {
      "text/html": [
       "<div>\n",
       "<style scoped>\n",
       "    .dataframe tbody tr th:only-of-type {\n",
       "        vertical-align: middle;\n",
       "    }\n",
       "\n",
       "    .dataframe tbody tr th {\n",
       "        vertical-align: top;\n",
       "    }\n",
       "\n",
       "    .dataframe thead th {\n",
       "        text-align: right;\n",
       "    }\n",
       "</style>\n",
       "<table border=\"1\" class=\"dataframe\">\n",
       "  <thead>\n",
       "    <tr style=\"text-align: right;\">\n",
       "      <th></th>\n",
       "      <th></th>\n",
       "      <th>Range (FT1)</th>\n",
       "      <th>City Range (FT1)</th>\n",
       "    </tr>\n",
       "    <tr>\n",
       "      <th>Make</th>\n",
       "      <th>Model</th>\n",
       "      <th></th>\n",
       "      <th></th>\n",
       "    </tr>\n",
       "  </thead>\n",
       "  <tbody>\n",
       "    <tr>\n",
       "      <th rowspan=\"4\" valign=\"top\">AM General</th>\n",
       "      <th>DJ Po Vehicle 2WD</th>\n",
       "      <td>0.0</td>\n",
       "      <td>0.0</td>\n",
       "    </tr>\n",
       "    <tr>\n",
       "      <th>DJ Po Vehicle 2WD</th>\n",
       "      <td>0.0</td>\n",
       "      <td>0.0</td>\n",
       "    </tr>\n",
       "    <tr>\n",
       "      <th>FJ8c Post Office</th>\n",
       "      <td>0.0</td>\n",
       "      <td>0.0</td>\n",
       "    </tr>\n",
       "    <tr>\n",
       "      <th>FJ8c Post Office</th>\n",
       "      <td>0.0</td>\n",
       "      <td>0.0</td>\n",
       "    </tr>\n",
       "    <tr>\n",
       "      <th>Alfa Romeo</th>\n",
       "      <th>GT V6 2.5</th>\n",
       "      <td>0.0</td>\n",
       "      <td>0.0</td>\n",
       "    </tr>\n",
       "    <tr>\n",
       "      <th>...</th>\n",
       "      <th>...</th>\n",
       "      <td>...</td>\n",
       "      <td>...</td>\n",
       "    </tr>\n",
       "    <tr>\n",
       "      <th rowspan=\"5\" valign=\"top\">Volvo</th>\n",
       "      <th>760 GLE</th>\n",
       "      <td>0.0</td>\n",
       "      <td>0.0</td>\n",
       "    </tr>\n",
       "    <tr>\n",
       "      <th>760 GLE</th>\n",
       "      <td>0.0</td>\n",
       "      <td>0.0</td>\n",
       "    </tr>\n",
       "    <tr>\n",
       "      <th>760 GLE</th>\n",
       "      <td>0.0</td>\n",
       "      <td>0.0</td>\n",
       "    </tr>\n",
       "    <tr>\n",
       "      <th>760 GLE</th>\n",
       "      <td>0.0</td>\n",
       "      <td>0.0</td>\n",
       "    </tr>\n",
       "    <tr>\n",
       "      <th>760 GLE</th>\n",
       "      <td>0.0</td>\n",
       "      <td>0.0</td>\n",
       "    </tr>\n",
       "  </tbody>\n",
       "</table>\n",
       "<p>1964 rows × 2 columns</p>\n",
       "</div>"
      ],
      "text/plain": [
       "                              Range (FT1)  City Range (FT1)\n",
       "Make       Model                                           \n",
       "AM General DJ Po Vehicle 2WD          0.0               0.0\n",
       "           DJ Po Vehicle 2WD          0.0               0.0\n",
       "           FJ8c Post Office           0.0               0.0\n",
       "           FJ8c Post Office           0.0               0.0\n",
       "Alfa Romeo GT V6 2.5                  0.0               0.0\n",
       "...                                   ...               ...\n",
       "Volvo      760 GLE                    0.0               0.0\n",
       "           760 GLE                    0.0               0.0\n",
       "           760 GLE                    0.0               0.0\n",
       "           760 GLE                    0.0               0.0\n",
       "           760 GLE                    0.0               0.0\n",
       "\n",
       "[1964 rows x 2 columns]"
      ]
     },
     "execution_count": 3,
     "metadata": {},
     "output_type": "execute_result"
    }
   ],
   "source": [
    "fuel.loc[1984]"
   ]
  },
  {
   "cell_type": "code",
   "execution_count": 4,
   "id": "d2795cec",
   "metadata": {
    "collapsed": true
   },
   "outputs": [
    {
     "data": {
      "text/html": [
       "<div>\n",
       "<style scoped>\n",
       "    .dataframe tbody tr th:only-of-type {\n",
       "        vertical-align: middle;\n",
       "    }\n",
       "\n",
       "    .dataframe tbody tr th {\n",
       "        vertical-align: top;\n",
       "    }\n",
       "\n",
       "    .dataframe thead th {\n",
       "        text-align: right;\n",
       "    }\n",
       "</style>\n",
       "<table border=\"1\" class=\"dataframe\">\n",
       "  <thead>\n",
       "    <tr style=\"text-align: right;\">\n",
       "      <th></th>\n",
       "      <th>Range (FT1)</th>\n",
       "      <th>City Range (FT1)</th>\n",
       "    </tr>\n",
       "    <tr>\n",
       "      <th>Model</th>\n",
       "      <th></th>\n",
       "      <th></th>\n",
       "    </tr>\n",
       "  </thead>\n",
       "  <tbody>\n",
       "    <tr>\n",
       "      <th>GT V6 2.5</th>\n",
       "      <td>0.0</td>\n",
       "      <td>0.0</td>\n",
       "    </tr>\n",
       "    <tr>\n",
       "      <th>GT V6 2.5</th>\n",
       "      <td>0.0</td>\n",
       "      <td>0.0</td>\n",
       "    </tr>\n",
       "    <tr>\n",
       "      <th>Spider Veloce 2000</th>\n",
       "      <td>0.0</td>\n",
       "      <td>0.0</td>\n",
       "    </tr>\n",
       "    <tr>\n",
       "      <th>Spider Veloce 2000</th>\n",
       "      <td>0.0</td>\n",
       "      <td>0.0</td>\n",
       "    </tr>\n",
       "  </tbody>\n",
       "</table>\n",
       "</div>"
      ],
      "text/plain": [
       "                    Range (FT1)  City Range (FT1)\n",
       "Model                                            \n",
       "GT V6 2.5                   0.0               0.0\n",
       "GT V6 2.5                   0.0               0.0\n",
       "Spider Veloce 2000          0.0               0.0\n",
       "Spider Veloce 2000          0.0               0.0"
      ]
     },
     "execution_count": 4,
     "metadata": {},
     "output_type": "execute_result"
    }
   ],
   "source": [
    "fuel.loc[(1984, 'Alfa Romeo')]"
   ]
  },
  {
   "cell_type": "code",
   "execution_count": 5,
   "id": "6e3f2dcc",
   "metadata": {
    "collapsed": true
   },
   "outputs": [
    {
     "data": {
      "text/html": [
       "<div>\n",
       "<style scoped>\n",
       "    .dataframe tbody tr th:only-of-type {\n",
       "        vertical-align: middle;\n",
       "    }\n",
       "\n",
       "    .dataframe tbody tr th {\n",
       "        vertical-align: top;\n",
       "    }\n",
       "\n",
       "    .dataframe thead th {\n",
       "        text-align: right;\n",
       "    }\n",
       "</style>\n",
       "<table border=\"1\" class=\"dataframe\">\n",
       "  <thead>\n",
       "    <tr style=\"text-align: right;\">\n",
       "      <th></th>\n",
       "      <th></th>\n",
       "      <th></th>\n",
       "      <th>Range (FT1)</th>\n",
       "      <th>City Range (FT1)</th>\n",
       "    </tr>\n",
       "    <tr>\n",
       "      <th>Year</th>\n",
       "      <th>Make</th>\n",
       "      <th>Model</th>\n",
       "      <th></th>\n",
       "      <th></th>\n",
       "    </tr>\n",
       "  </thead>\n",
       "  <tbody>\n",
       "    <tr>\n",
       "      <th rowspan=\"2\" valign=\"top\">1984</th>\n",
       "      <th rowspan=\"2\" valign=\"top\">Alfa Romeo</th>\n",
       "      <th>Spider Veloce 2000</th>\n",
       "      <td>0.0</td>\n",
       "      <td>0.0</td>\n",
       "    </tr>\n",
       "    <tr>\n",
       "      <th>Spider Veloce 2000</th>\n",
       "      <td>0.0</td>\n",
       "      <td>0.0</td>\n",
       "    </tr>\n",
       "  </tbody>\n",
       "</table>\n",
       "</div>"
      ],
      "text/plain": [
       "                                    Range (FT1)  City Range (FT1)\n",
       "Year Make       Model                                            \n",
       "1984 Alfa Romeo Spider Veloce 2000          0.0               0.0\n",
       "                Spider Veloce 2000          0.0               0.0"
      ]
     },
     "execution_count": 5,
     "metadata": {},
     "output_type": "execute_result"
    }
   ],
   "source": [
    "fuel.loc[(1984, 'Alfa Romeo', 'Spider Veloce 2000')]"
   ]
  },
  {
   "cell_type": "code",
   "execution_count": 6,
   "id": "fbd51097",
   "metadata": {},
   "outputs": [
    {
     "data": {
      "text/plain": [
       "Year  Make        Model             \n",
       "1984  Alfa Romeo  Spider Veloce 2000    0.0\n",
       "                  Spider Veloce 2000    0.0\n",
       "Name: Range (FT1), dtype: float64"
      ]
     },
     "execution_count": 6,
     "metadata": {},
     "output_type": "execute_result"
    }
   ],
   "source": [
    "fuel.loc[(1984, 'Alfa Romeo', 'Spider Veloce 2000'), 'Range (FT1)']"
   ]
  },
  {
   "cell_type": "code",
   "execution_count": 7,
   "id": "1ce90554",
   "metadata": {},
   "outputs": [],
   "source": [
    "fuel = fuel.transpose()"
   ]
  },
  {
   "cell_type": "code",
   "execution_count": 8,
   "id": "ab030923",
   "metadata": {
    "collapsed": true
   },
   "outputs": [
    {
     "data": {
      "text/plain": [
       "Year  Make        Model            \n",
       "1984  AM General  DJ Po Vehicle 2WD     0.0\n",
       "                  DJ Po Vehicle 2WD     0.0\n",
       "                  FJ8c Post Office      0.0\n",
       "                  FJ8c Post Office      0.0\n",
       "      Alfa Romeo  GT V6 2.5             0.0\n",
       "                                       ... \n",
       "2012  Mitsubishi  Lancer                0.0\n",
       "                  Lancer AWD            0.0\n",
       "                  Lancer Evolution      0.0\n",
       "                  Lancer Evolution      0.0\n",
       "                  i-MiEV               62.0\n",
       "Name: Range (FT1), Length: 31684, dtype: float64"
      ]
     },
     "execution_count": 8,
     "metadata": {},
     "output_type": "execute_result"
    }
   ],
   "source": [
    "fuel.loc['Range (FT1)']"
   ]
  },
  {
   "cell_type": "code",
   "execution_count": 10,
   "id": "32f99410",
   "metadata": {
    "collapsed": true
   },
   "outputs": [
    {
     "data": {
      "text/plain": [
       "Make        Model            \n",
       "AM General  DJ Po Vehicle 2WD    0.0\n",
       "            DJ Po Vehicle 2WD    0.0\n",
       "            FJ8c Post Office     0.0\n",
       "            FJ8c Post Office     0.0\n",
       "Alfa Romeo  GT V6 2.5            0.0\n",
       "                                ... \n",
       "Volvo       760 GLE              0.0\n",
       "            760 GLE              0.0\n",
       "            760 GLE              0.0\n",
       "            760 GLE              0.0\n",
       "            760 GLE              0.0\n",
       "Name: Range (FT1), Length: 1964, dtype: float64"
      ]
     },
     "execution_count": 10,
     "metadata": {},
     "output_type": "execute_result"
    }
   ],
   "source": [
    "fuel.loc['Range (FT1)', 1984]"
   ]
  },
  {
   "cell_type": "code",
   "execution_count": 11,
   "id": "267e13a0",
   "metadata": {
    "collapsed": true
   },
   "outputs": [
    {
     "data": {
      "text/plain": [
       "Model\n",
       "GT V6 2.5             0.0\n",
       "GT V6 2.5             0.0\n",
       "Spider Veloce 2000    0.0\n",
       "Spider Veloce 2000    0.0\n",
       "Name: Range (FT1), dtype: float64"
      ]
     },
     "execution_count": 11,
     "metadata": {},
     "output_type": "execute_result"
    }
   ],
   "source": [
    "fuel.loc['Range (FT1)', (1984, 'Alfa Romeo')]"
   ]
  },
  {
   "cell_type": "code",
   "execution_count": 12,
   "id": "a693e8be",
   "metadata": {},
   "outputs": [
    {
     "data": {
      "text/plain": [
       "Year  Make        Model             \n",
       "1984  Alfa Romeo  Spider Veloce 2000    0.0\n",
       "                  Spider Veloce 2000    0.0\n",
       "Name: Range (FT1), dtype: float64"
      ]
     },
     "execution_count": 12,
     "metadata": {},
     "output_type": "execute_result"
    }
   ],
   "source": [
    "fuel.loc['Range (FT1)', (1984, 'Alfa Romeo', 'Spider Veloce 2000')]"
   ]
  },
  {
   "cell_type": "code",
   "execution_count": null,
   "id": "1cb0d749",
   "metadata": {},
   "outputs": [],
   "source": []
  }
 ],
 "metadata": {
  "kernelspec": {
   "display_name": "Python 3 (ipykernel)",
   "language": "python",
   "name": "python3"
  },
  "language_info": {
   "codemirror_mode": {
    "name": "ipython",
    "version": 3
   },
   "file_extension": ".py",
   "mimetype": "text/x-python",
   "name": "python",
   "nbconvert_exporter": "python",
   "pygments_lexer": "ipython3",
   "version": "3.11.3"
  }
 },
 "nbformat": 4,
 "nbformat_minor": 5
}
