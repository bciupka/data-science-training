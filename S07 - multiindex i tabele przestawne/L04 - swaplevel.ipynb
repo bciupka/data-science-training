{
 "cells": [
  {
   "cell_type": "markdown",
   "id": "f35e0d45",
   "metadata": {},
   "source": [
    "df.swaplevel(i=-2, j=-1, axis=0) - zamienia kolumny/indexy niewywoływalne (np. pod indeksem) (i, j - elementy do podmiany)\n",
    "\n",
    "Nie ma inplacea\n",
    "\n",
    "W funkcji loc trzeba pamietac o kolejnosci podawania indexu w multiindex - polecenia po swaplevel nie zadziałają\n",
    "\n",
    "*PerformanceWarning: indexing past lexsort depth may impact performance.* - nieposortowany index mocno wpływa na wydajność działania programu"
   ]
  },
  {
   "cell_type": "code",
   "execution_count": 1,
   "id": "e4632659",
   "metadata": {},
   "outputs": [],
   "source": [
    "import pandas as pd\n",
    "import numpy as np\n",
    "import matplotlib.pyplot as plt\n",
    "import math\n",
    "\n",
    "%matplotlib inline"
   ]
  },
  {
   "cell_type": "code",
   "execution_count": 11,
   "id": "43d68494",
   "metadata": {},
   "outputs": [
    {
     "data": {
      "text/html": [
       "<div>\n",
       "<style scoped>\n",
       "    .dataframe tbody tr th:only-of-type {\n",
       "        vertical-align: middle;\n",
       "    }\n",
       "\n",
       "    .dataframe tbody tr th {\n",
       "        vertical-align: top;\n",
       "    }\n",
       "\n",
       "    .dataframe thead th {\n",
       "        text-align: right;\n",
       "    }\n",
       "</style>\n",
       "<table border=\"1\" class=\"dataframe\">\n",
       "  <thead>\n",
       "    <tr style=\"text-align: right;\">\n",
       "      <th></th>\n",
       "      <th></th>\n",
       "      <th></th>\n",
       "      <th>Range (FT1)</th>\n",
       "      <th>City Range (FT1)</th>\n",
       "    </tr>\n",
       "    <tr>\n",
       "      <th>Year</th>\n",
       "      <th>Make</th>\n",
       "      <th>Model</th>\n",
       "      <th></th>\n",
       "      <th></th>\n",
       "    </tr>\n",
       "  </thead>\n",
       "  <tbody>\n",
       "    <tr>\n",
       "      <th rowspan=\"5\" valign=\"top\">1984</th>\n",
       "      <th rowspan=\"4\" valign=\"top\">AM General</th>\n",
       "      <th>DJ Po Vehicle 2WD</th>\n",
       "      <td>0.0</td>\n",
       "      <td>0.0</td>\n",
       "    </tr>\n",
       "    <tr>\n",
       "      <th>DJ Po Vehicle 2WD</th>\n",
       "      <td>0.0</td>\n",
       "      <td>0.0</td>\n",
       "    </tr>\n",
       "    <tr>\n",
       "      <th>FJ8c Post Office</th>\n",
       "      <td>0.0</td>\n",
       "      <td>0.0</td>\n",
       "    </tr>\n",
       "    <tr>\n",
       "      <th>FJ8c Post Office</th>\n",
       "      <td>0.0</td>\n",
       "      <td>0.0</td>\n",
       "    </tr>\n",
       "    <tr>\n",
       "      <th>Alfa Romeo</th>\n",
       "      <th>GT V6 2.5</th>\n",
       "      <td>0.0</td>\n",
       "      <td>0.0</td>\n",
       "    </tr>\n",
       "  </tbody>\n",
       "</table>\n",
       "</div>"
      ],
      "text/plain": [
       "                                   Range (FT1)  City Range (FT1)\n",
       "Year Make       Model                                           \n",
       "1984 AM General DJ Po Vehicle 2WD          0.0               0.0\n",
       "                DJ Po Vehicle 2WD          0.0               0.0\n",
       "                FJ8c Post Office           0.0               0.0\n",
       "                FJ8c Post Office           0.0               0.0\n",
       "     Alfa Romeo GT V6 2.5                  0.0               0.0"
      ]
     },
     "execution_count": 11,
     "metadata": {},
     "output_type": "execute_result"
    }
   ],
   "source": [
    "fuel = pd.read_csv(r\"..\\course-files\\fuel.csv\",\n",
    "                  usecols=['Year','Make','Model','Range (FT1)','City Range (FT1)'],\n",
    "                  index_col=['Year','Make','Model']).sort_index()\n",
    "fuel.head()"
   ]
  },
  {
   "cell_type": "code",
   "execution_count": 12,
   "id": "81650779",
   "metadata": {},
   "outputs": [
    {
     "data": {
      "text/html": [
       "<div>\n",
       "<style scoped>\n",
       "    .dataframe tbody tr th:only-of-type {\n",
       "        vertical-align: middle;\n",
       "    }\n",
       "\n",
       "    .dataframe tbody tr th {\n",
       "        vertical-align: top;\n",
       "    }\n",
       "\n",
       "    .dataframe thead th {\n",
       "        text-align: right;\n",
       "    }\n",
       "</style>\n",
       "<table border=\"1\" class=\"dataframe\">\n",
       "  <thead>\n",
       "    <tr style=\"text-align: right;\">\n",
       "      <th></th>\n",
       "      <th></th>\n",
       "      <th></th>\n",
       "      <th>Range (FT1)</th>\n",
       "      <th>City Range (FT1)</th>\n",
       "    </tr>\n",
       "    <tr>\n",
       "      <th>Year</th>\n",
       "      <th>Make</th>\n",
       "      <th>Model</th>\n",
       "      <th></th>\n",
       "      <th></th>\n",
       "    </tr>\n",
       "  </thead>\n",
       "  <tbody>\n",
       "    <tr>\n",
       "      <th rowspan=\"2\" valign=\"top\">1984</th>\n",
       "      <th rowspan=\"2\" valign=\"top\">Alfa Romeo</th>\n",
       "      <th>Spider Veloce 2000</th>\n",
       "      <td>0.0</td>\n",
       "      <td>0.0</td>\n",
       "    </tr>\n",
       "    <tr>\n",
       "      <th>Spider Veloce 2000</th>\n",
       "      <td>0.0</td>\n",
       "      <td>0.0</td>\n",
       "    </tr>\n",
       "  </tbody>\n",
       "</table>\n",
       "</div>"
      ],
      "text/plain": [
       "                                    Range (FT1)  City Range (FT1)\n",
       "Year Make       Model                                            \n",
       "1984 Alfa Romeo Spider Veloce 2000          0.0               0.0\n",
       "                Spider Veloce 2000          0.0               0.0"
      ]
     },
     "execution_count": 12,
     "metadata": {},
     "output_type": "execute_result"
    }
   ],
   "source": [
    "fuel.loc[1984,'Alfa Romeo', 'Spider Veloce 2000']"
   ]
  },
  {
   "cell_type": "code",
   "execution_count": 13,
   "id": "c61870ee",
   "metadata": {},
   "outputs": [],
   "source": [
    "fuel = fuel.swaplevel(0, 1).sort_index()"
   ]
  },
  {
   "cell_type": "code",
   "execution_count": 14,
   "id": "634a1a68",
   "metadata": {},
   "outputs": [
    {
     "data": {
      "text/html": [
       "<div>\n",
       "<style scoped>\n",
       "    .dataframe tbody tr th:only-of-type {\n",
       "        vertical-align: middle;\n",
       "    }\n",
       "\n",
       "    .dataframe tbody tr th {\n",
       "        vertical-align: top;\n",
       "    }\n",
       "\n",
       "    .dataframe thead th {\n",
       "        text-align: right;\n",
       "    }\n",
       "</style>\n",
       "<table border=\"1\" class=\"dataframe\">\n",
       "  <thead>\n",
       "    <tr style=\"text-align: right;\">\n",
       "      <th></th>\n",
       "      <th></th>\n",
       "      <th></th>\n",
       "      <th>Range (FT1)</th>\n",
       "      <th>City Range (FT1)</th>\n",
       "    </tr>\n",
       "    <tr>\n",
       "      <th>Make</th>\n",
       "      <th>Year</th>\n",
       "      <th>Model</th>\n",
       "      <th></th>\n",
       "      <th></th>\n",
       "    </tr>\n",
       "  </thead>\n",
       "  <tbody>\n",
       "    <tr>\n",
       "      <th rowspan=\"2\" valign=\"top\">Alfa Romeo</th>\n",
       "      <th rowspan=\"2\" valign=\"top\">1984</th>\n",
       "      <th>Spider Veloce 2000</th>\n",
       "      <td>0.0</td>\n",
       "      <td>0.0</td>\n",
       "    </tr>\n",
       "    <tr>\n",
       "      <th>Spider Veloce 2000</th>\n",
       "      <td>0.0</td>\n",
       "      <td>0.0</td>\n",
       "    </tr>\n",
       "  </tbody>\n",
       "</table>\n",
       "</div>"
      ],
      "text/plain": [
       "                                    Range (FT1)  City Range (FT1)\n",
       "Make       Year Model                                            \n",
       "Alfa Romeo 1984 Spider Veloce 2000          0.0               0.0\n",
       "                Spider Veloce 2000          0.0               0.0"
      ]
     },
     "execution_count": 14,
     "metadata": {},
     "output_type": "execute_result"
    }
   ],
   "source": [
    "fuel.loc[('Alfa Romeo', 1984, 'Spider Veloce 2000')]"
   ]
  },
  {
   "cell_type": "code",
   "execution_count": 15,
   "id": "089f3572",
   "metadata": {},
   "outputs": [],
   "source": [
    "fuel = fuel.swaplevel(1, 2).sort_index()"
   ]
  },
  {
   "cell_type": "code",
   "execution_count": 17,
   "id": "a83a69f8",
   "metadata": {},
   "outputs": [
    {
     "data": {
      "text/html": [
       "<div>\n",
       "<style scoped>\n",
       "    .dataframe tbody tr th:only-of-type {\n",
       "        vertical-align: middle;\n",
       "    }\n",
       "\n",
       "    .dataframe tbody tr th {\n",
       "        vertical-align: top;\n",
       "    }\n",
       "\n",
       "    .dataframe thead th {\n",
       "        text-align: right;\n",
       "    }\n",
       "</style>\n",
       "<table border=\"1\" class=\"dataframe\">\n",
       "  <thead>\n",
       "    <tr style=\"text-align: right;\">\n",
       "      <th></th>\n",
       "      <th></th>\n",
       "      <th></th>\n",
       "      <th>Range (FT1)</th>\n",
       "      <th>City Range (FT1)</th>\n",
       "    </tr>\n",
       "    <tr>\n",
       "      <th>Make</th>\n",
       "      <th>Model</th>\n",
       "      <th>Year</th>\n",
       "      <th></th>\n",
       "      <th></th>\n",
       "    </tr>\n",
       "  </thead>\n",
       "  <tbody>\n",
       "    <tr>\n",
       "      <th rowspan=\"2\" valign=\"top\">Alfa Romeo</th>\n",
       "      <th rowspan=\"2\" valign=\"top\">Spider Veloce 2000</th>\n",
       "      <th>1984</th>\n",
       "      <td>0.0</td>\n",
       "      <td>0.0</td>\n",
       "    </tr>\n",
       "    <tr>\n",
       "      <th>1984</th>\n",
       "      <td>0.0</td>\n",
       "      <td>0.0</td>\n",
       "    </tr>\n",
       "  </tbody>\n",
       "</table>\n",
       "</div>"
      ],
      "text/plain": [
       "                                    Range (FT1)  City Range (FT1)\n",
       "Make       Model              Year                               \n",
       "Alfa Romeo Spider Veloce 2000 1984          0.0               0.0\n",
       "                              1984          0.0               0.0"
      ]
     },
     "execution_count": 17,
     "metadata": {},
     "output_type": "execute_result"
    }
   ],
   "source": [
    "fuel.loc[('Alfa Romeo', 'Spider Veloce 2000', 1984)]"
   ]
  },
  {
   "cell_type": "code",
   "execution_count": null,
   "id": "58811463",
   "metadata": {},
   "outputs": [],
   "source": []
  }
 ],
 "metadata": {
  "kernelspec": {
   "display_name": "Python 3 (ipykernel)",
   "language": "python",
   "name": "python3"
  },
  "language_info": {
   "codemirror_mode": {
    "name": "ipython",
    "version": 3
   },
   "file_extension": ".py",
   "mimetype": "text/x-python",
   "name": "python",
   "nbconvert_exporter": "python",
   "pygments_lexer": "ipython3",
   "version": "3.11.3"
  }
 },
 "nbformat": 4,
 "nbformat_minor": 5
}
