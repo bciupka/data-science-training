{
 "cells": [
  {
   "cell_type": "code",
   "execution_count": 10,
   "id": "9343f8fb",
   "metadata": {},
   "outputs": [],
   "source": [
    "import pandas as pd\n",
    "import numpy as np\n",
    "import matplotlib.pyplot as plt\n",
    "import math\n",
    "import csv\n",
    "\n",
    "%matplotlib inline"
   ]
  },
  {
   "cell_type": "code",
   "execution_count": 3,
   "id": "3392836f",
   "metadata": {},
   "outputs": [
    {
     "data": {
      "text/html": [
       "<div>\n",
       "<style scoped>\n",
       "    .dataframe tbody tr th:only-of-type {\n",
       "        vertical-align: middle;\n",
       "    }\n",
       "\n",
       "    .dataframe tbody tr th {\n",
       "        vertical-align: top;\n",
       "    }\n",
       "\n",
       "    .dataframe thead th {\n",
       "        text-align: right;\n",
       "    }\n",
       "</style>\n",
       "<table border=\"1\" class=\"dataframe\">\n",
       "  <thead>\n",
       "    <tr style=\"text-align: right;\">\n",
       "      <th></th>\n",
       "      <th>Category</th>\n",
       "      <th>Item</th>\n",
       "      <th>Calories</th>\n",
       "      <th>TotalFat</th>\n",
       "    </tr>\n",
       "  </thead>\n",
       "  <tbody>\n",
       "    <tr>\n",
       "      <th>0</th>\n",
       "      <td>Breakfast</td>\n",
       "      <td>Egg McMuffin</td>\n",
       "      <td>300</td>\n",
       "      <td>13.0</td>\n",
       "    </tr>\n",
       "    <tr>\n",
       "      <th>1</th>\n",
       "      <td>Breakfast</td>\n",
       "      <td>Egg White Delight</td>\n",
       "      <td>250</td>\n",
       "      <td>8.0</td>\n",
       "    </tr>\n",
       "    <tr>\n",
       "      <th>2</th>\n",
       "      <td>Breakfast</td>\n",
       "      <td>Sausage McMuffin</td>\n",
       "      <td>370</td>\n",
       "      <td>23.0</td>\n",
       "    </tr>\n",
       "    <tr>\n",
       "      <th>3</th>\n",
       "      <td>Breakfast</td>\n",
       "      <td>Sausage McMuffin with Egg</td>\n",
       "      <td>450</td>\n",
       "      <td>28.0</td>\n",
       "    </tr>\n",
       "    <tr>\n",
       "      <th>4</th>\n",
       "      <td>Breakfast</td>\n",
       "      <td>Sausage McMuffin with Egg Whites</td>\n",
       "      <td>400</td>\n",
       "      <td>23.0</td>\n",
       "    </tr>\n",
       "  </tbody>\n",
       "</table>\n",
       "</div>"
      ],
      "text/plain": [
       "    Category                              Item  Calories  TotalFat\n",
       "0  Breakfast                      Egg McMuffin       300      13.0\n",
       "1  Breakfast                 Egg White Delight       250       8.0\n",
       "2  Breakfast                  Sausage McMuffin       370      23.0\n",
       "3  Breakfast         Sausage McMuffin with Egg       450      28.0\n",
       "4  Breakfast  Sausage McMuffin with Egg Whites       400      23.0"
      ]
     },
     "execution_count": 3,
     "metadata": {},
     "output_type": "execute_result"
    }
   ],
   "source": [
    "mcdonalds = pd.read_csv(r'../course-files/mcdonalds.csv',\n",
    "                       usecols=['Category', 'Item', 'Calories', 'TotalFat'])\n",
    "mcdonalds.head()"
   ]
  },
  {
   "cell_type": "code",
   "execution_count": 4,
   "id": "daf68257",
   "metadata": {},
   "outputs": [],
   "source": [
    "mcdonalds.to_csv(r'../exported/mc-1.csv', index=False)"
   ]
  },
  {
   "cell_type": "code",
   "execution_count": 13,
   "id": "c44a1255",
   "metadata": {},
   "outputs": [],
   "source": [
    "mcdonalds.to_csv(r'../exported/mc-2.csv', index=False, quoting=csv.QUOTE_NONNUMERIC)"
   ]
  },
  {
   "cell_type": "code",
   "execution_count": 14,
   "id": "37d025f1",
   "metadata": {},
   "outputs": [],
   "source": [
    "mcdonalds.to_csv(r'../exported/mc-3.csv', index=False, quoting=csv.QUOTE_NONNUMERIC, decimal=',')"
   ]
  },
  {
   "cell_type": "code",
   "execution_count": 15,
   "id": "439cd061",
   "metadata": {},
   "outputs": [],
   "source": [
    "mcdonalds.to_csv(r'../exported/mc-4.csv', index=False, quoting=csv.QUOTE_NONNUMERIC, decimal=',', sep=';')"
   ]
  },
  {
   "cell_type": "code",
   "execution_count": 16,
   "id": "e2cd4342",
   "metadata": {},
   "outputs": [],
   "source": [
    "mcdonalds.to_csv(r'../exported/mc-5.csv', index=False, quoting=csv.QUOTE_NONNUMERIC, decimal=',', sep=';',\n",
    "                 columns=['Item', 'TotalFat'])"
   ]
  },
  {
   "cell_type": "code",
   "execution_count": 17,
   "id": "9cdc5e70",
   "metadata": {},
   "outputs": [],
   "source": [
    "mcdonalds.to_json(r'../exported/mc-6.json')"
   ]
  },
  {
   "cell_type": "code",
   "execution_count": 18,
   "id": "2645a9a6",
   "metadata": {},
   "outputs": [],
   "source": [
    "html = mcdonalds.to_html()"
   ]
  },
  {
   "cell_type": "code",
   "execution_count": 22,
   "id": "099969db",
   "metadata": {},
   "outputs": [],
   "source": [
    "with open(r'../exported/mc-7.html', 'w', encoding='utf-8') as f:\n",
    "    f.write(html)"
   ]
  },
  {
   "cell_type": "code",
   "execution_count": null,
   "id": "29b45ac1",
   "metadata": {},
   "outputs": [],
   "source": []
  }
 ],
 "metadata": {
  "kernelspec": {
   "display_name": "Python 3 (ipykernel)",
   "language": "python",
   "name": "python3"
  },
  "language_info": {
   "codemirror_mode": {
    "name": "ipython",
    "version": 3
   },
   "file_extension": ".py",
   "mimetype": "text/x-python",
   "name": "python",
   "nbconvert_exporter": "python",
   "pygments_lexer": "ipython3",
   "version": "3.11.3"
  }
 },
 "nbformat": 4,
 "nbformat_minor": 5
}
